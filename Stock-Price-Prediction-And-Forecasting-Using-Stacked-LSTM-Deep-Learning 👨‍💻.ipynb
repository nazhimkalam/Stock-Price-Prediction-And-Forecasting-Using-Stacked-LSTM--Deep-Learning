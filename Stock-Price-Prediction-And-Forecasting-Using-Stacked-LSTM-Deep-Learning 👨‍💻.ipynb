{
 "cells": [
  {
   "cell_type": "markdown",
   "metadata": {},
   "source": [
    "# Stock Price Prediction and Forecasting Using Stacked LSTM Deep Learning 👨‍💻"
   ]
  },
  {
   "cell_type": "markdown",
   "metadata": {},
   "source": [
    "### Imports"
   ]
  },
  {
   "cell_type": "code",
   "execution_count": 30,
   "metadata": {},
   "outputs": [],
   "source": [
    "import pandas_datareader as pdr\n",
    "import pandas as pd\n",
    "import matplotlib.pyplot as plt\n",
    "import numpy as np\n"
   ]
  },
  {
   "cell_type": "markdown",
   "metadata": {},
   "source": [
    "### API key for the Tiingo Stock Market dataset"
   ]
  },
  {
   "cell_type": "code",
   "execution_count": 7,
   "metadata": {},
   "outputs": [],
   "source": [
    "API_KEY = \"5e04a1287a5723de6ba9f89836cf0858d2859a61\""
   ]
  },
  {
   "cell_type": "markdown",
   "metadata": {},
   "source": [
    "### Reading the dataset using the API key"
   ]
  },
  {
   "cell_type": "code",
   "execution_count": 9,
   "metadata": {},
   "outputs": [],
   "source": [
    "df = pdr.get_data_tiingo(\"AAPL\", api_key=API_KEY)"
   ]
  },
  {
   "cell_type": "markdown",
   "metadata": {},
   "source": [
    "### Convert the feteched dataset into a .csv file and saving it"
   ]
  },
  {
   "cell_type": "code",
   "execution_count": 10,
   "metadata": {},
   "outputs": [],
   "source": [
    "df.to_csv(\"AAPL.csv\")"
   ]
  },
  {
   "cell_type": "markdown",
   "metadata": {},
   "source": [
    "### Reading the saved csv file created locally in the folder"
   ]
  },
  {
   "cell_type": "code",
   "execution_count": 12,
   "metadata": {},
   "outputs": [],
   "source": [
    "df = pd.read_csv(\"AAPL.csv\")"
   ]
  },
  {
   "cell_type": "code",
   "execution_count": 13,
   "metadata": {},
   "outputs": [
    {
     "data": {
      "text/html": [
       "<div>\n",
       "<style scoped>\n",
       "    .dataframe tbody tr th:only-of-type {\n",
       "        vertical-align: middle;\n",
       "    }\n",
       "\n",
       "    .dataframe tbody tr th {\n",
       "        vertical-align: top;\n",
       "    }\n",
       "\n",
       "    .dataframe thead th {\n",
       "        text-align: right;\n",
       "    }\n",
       "</style>\n",
       "<table border=\"1\" class=\"dataframe\">\n",
       "  <thead>\n",
       "    <tr style=\"text-align: right;\">\n",
       "      <th></th>\n",
       "      <th>symbol</th>\n",
       "      <th>date</th>\n",
       "      <th>close</th>\n",
       "      <th>high</th>\n",
       "      <th>low</th>\n",
       "      <th>open</th>\n",
       "      <th>volume</th>\n",
       "      <th>adjClose</th>\n",
       "      <th>adjHigh</th>\n",
       "      <th>adjLow</th>\n",
       "      <th>adjOpen</th>\n",
       "      <th>adjVolume</th>\n",
       "      <th>divCash</th>\n",
       "      <th>splitFactor</th>\n",
       "    </tr>\n",
       "  </thead>\n",
       "  <tbody>\n",
       "    <tr>\n",
       "      <th>0</th>\n",
       "      <td>AAPL</td>\n",
       "      <td>2015-12-31 00:00:00+00:00</td>\n",
       "      <td>105.26</td>\n",
       "      <td>107.030</td>\n",
       "      <td>104.82</td>\n",
       "      <td>107.01</td>\n",
       "      <td>40912316</td>\n",
       "      <td>24.377014</td>\n",
       "      <td>24.786926</td>\n",
       "      <td>24.275115</td>\n",
       "      <td>24.782294</td>\n",
       "      <td>163649264</td>\n",
       "      <td>0.0</td>\n",
       "      <td>1.0</td>\n",
       "    </tr>\n",
       "    <tr>\n",
       "      <th>1</th>\n",
       "      <td>AAPL</td>\n",
       "      <td>2016-01-04 00:00:00+00:00</td>\n",
       "      <td>105.35</td>\n",
       "      <td>105.368</td>\n",
       "      <td>102.00</td>\n",
       "      <td>102.61</td>\n",
       "      <td>67649387</td>\n",
       "      <td>24.397857</td>\n",
       "      <td>24.402026</td>\n",
       "      <td>23.622035</td>\n",
       "      <td>23.763304</td>\n",
       "      <td>270597548</td>\n",
       "      <td>0.0</td>\n",
       "      <td>1.0</td>\n",
       "    </tr>\n",
       "    <tr>\n",
       "      <th>2</th>\n",
       "      <td>AAPL</td>\n",
       "      <td>2016-01-05 00:00:00+00:00</td>\n",
       "      <td>102.71</td>\n",
       "      <td>105.850</td>\n",
       "      <td>102.41</td>\n",
       "      <td>105.75</td>\n",
       "      <td>55790992</td>\n",
       "      <td>23.786463</td>\n",
       "      <td>24.513651</td>\n",
       "      <td>23.716987</td>\n",
       "      <td>24.490493</td>\n",
       "      <td>223163968</td>\n",
       "      <td>0.0</td>\n",
       "      <td>1.0</td>\n",
       "    </tr>\n",
       "    <tr>\n",
       "      <th>3</th>\n",
       "      <td>AAPL</td>\n",
       "      <td>2016-01-06 00:00:00+00:00</td>\n",
       "      <td>100.70</td>\n",
       "      <td>102.370</td>\n",
       "      <td>99.87</td>\n",
       "      <td>100.56</td>\n",
       "      <td>68457388</td>\n",
       "      <td>23.320970</td>\n",
       "      <td>23.707723</td>\n",
       "      <td>23.128752</td>\n",
       "      <td>23.288548</td>\n",
       "      <td>273829552</td>\n",
       "      <td>0.0</td>\n",
       "      <td>1.0</td>\n",
       "    </tr>\n",
       "    <tr>\n",
       "      <th>4</th>\n",
       "      <td>AAPL</td>\n",
       "      <td>2016-01-07 00:00:00+00:00</td>\n",
       "      <td>96.45</td>\n",
       "      <td>100.130</td>\n",
       "      <td>96.43</td>\n",
       "      <td>98.68</td>\n",
       "      <td>81094428</td>\n",
       "      <td>22.336719</td>\n",
       "      <td>23.188965</td>\n",
       "      <td>22.332087</td>\n",
       "      <td>22.853161</td>\n",
       "      <td>324377712</td>\n",
       "      <td>0.0</td>\n",
       "      <td>1.0</td>\n",
       "    </tr>\n",
       "  </tbody>\n",
       "</table>\n",
       "</div>"
      ],
      "text/plain": [
       "  symbol                       date   close     high     low    open  \\\n",
       "0   AAPL  2015-12-31 00:00:00+00:00  105.26  107.030  104.82  107.01   \n",
       "1   AAPL  2016-01-04 00:00:00+00:00  105.35  105.368  102.00  102.61   \n",
       "2   AAPL  2016-01-05 00:00:00+00:00  102.71  105.850  102.41  105.75   \n",
       "3   AAPL  2016-01-06 00:00:00+00:00  100.70  102.370   99.87  100.56   \n",
       "4   AAPL  2016-01-07 00:00:00+00:00   96.45  100.130   96.43   98.68   \n",
       "\n",
       "     volume   adjClose    adjHigh     adjLow    adjOpen  adjVolume  divCash  \\\n",
       "0  40912316  24.377014  24.786926  24.275115  24.782294  163649264      0.0   \n",
       "1  67649387  24.397857  24.402026  23.622035  23.763304  270597548      0.0   \n",
       "2  55790992  23.786463  24.513651  23.716987  24.490493  223163968      0.0   \n",
       "3  68457388  23.320970  23.707723  23.128752  23.288548  273829552      0.0   \n",
       "4  81094428  22.336719  23.188965  22.332087  22.853161  324377712      0.0   \n",
       "\n",
       "   splitFactor  \n",
       "0          1.0  \n",
       "1          1.0  \n",
       "2          1.0  \n",
       "3          1.0  \n",
       "4          1.0  "
      ]
     },
     "execution_count": 13,
     "metadata": {},
     "output_type": "execute_result"
    }
   ],
   "source": [
    "# Reading the head of the dataset\n",
    "df.head()"
   ]
  },
  {
   "cell_type": "code",
   "execution_count": 18,
   "metadata": {},
   "outputs": [
    {
     "data": {
      "text/html": [
       "<div>\n",
       "<style scoped>\n",
       "    .dataframe tbody tr th:only-of-type {\n",
       "        vertical-align: middle;\n",
       "    }\n",
       "\n",
       "    .dataframe tbody tr th {\n",
       "        vertical-align: top;\n",
       "    }\n",
       "\n",
       "    .dataframe thead th {\n",
       "        text-align: right;\n",
       "    }\n",
       "</style>\n",
       "<table border=\"1\" class=\"dataframe\">\n",
       "  <thead>\n",
       "    <tr style=\"text-align: right;\">\n",
       "      <th></th>\n",
       "      <th>symbol</th>\n",
       "      <th>date</th>\n",
       "      <th>close</th>\n",
       "      <th>high</th>\n",
       "      <th>low</th>\n",
       "      <th>open</th>\n",
       "      <th>volume</th>\n",
       "      <th>adjClose</th>\n",
       "      <th>adjHigh</th>\n",
       "      <th>adjLow</th>\n",
       "      <th>adjOpen</th>\n",
       "      <th>adjVolume</th>\n",
       "      <th>divCash</th>\n",
       "      <th>splitFactor</th>\n",
       "    </tr>\n",
       "  </thead>\n",
       "  <tbody>\n",
       "    <tr>\n",
       "      <th>1252</th>\n",
       "      <td>AAPL</td>\n",
       "      <td>2020-12-21 00:00:00+00:00</td>\n",
       "      <td>128.23</td>\n",
       "      <td>128.310</td>\n",
       "      <td>123.449</td>\n",
       "      <td>125.02</td>\n",
       "      <td>121251553</td>\n",
       "      <td>128.23</td>\n",
       "      <td>128.310</td>\n",
       "      <td>123.449</td>\n",
       "      <td>125.02</td>\n",
       "      <td>121251553</td>\n",
       "      <td>0.0</td>\n",
       "      <td>1.0</td>\n",
       "    </tr>\n",
       "    <tr>\n",
       "      <th>1253</th>\n",
       "      <td>AAPL</td>\n",
       "      <td>2020-12-22 00:00:00+00:00</td>\n",
       "      <td>131.88</td>\n",
       "      <td>134.405</td>\n",
       "      <td>129.650</td>\n",
       "      <td>131.61</td>\n",
       "      <td>169351825</td>\n",
       "      <td>131.88</td>\n",
       "      <td>134.405</td>\n",
       "      <td>129.650</td>\n",
       "      <td>131.61</td>\n",
       "      <td>169351825</td>\n",
       "      <td>0.0</td>\n",
       "      <td>1.0</td>\n",
       "    </tr>\n",
       "    <tr>\n",
       "      <th>1254</th>\n",
       "      <td>AAPL</td>\n",
       "      <td>2020-12-23 00:00:00+00:00</td>\n",
       "      <td>130.96</td>\n",
       "      <td>132.430</td>\n",
       "      <td>130.780</td>\n",
       "      <td>132.16</td>\n",
       "      <td>88223692</td>\n",
       "      <td>130.96</td>\n",
       "      <td>132.430</td>\n",
       "      <td>130.780</td>\n",
       "      <td>132.16</td>\n",
       "      <td>88223692</td>\n",
       "      <td>0.0</td>\n",
       "      <td>1.0</td>\n",
       "    </tr>\n",
       "    <tr>\n",
       "      <th>1255</th>\n",
       "      <td>AAPL</td>\n",
       "      <td>2020-12-24 00:00:00+00:00</td>\n",
       "      <td>131.97</td>\n",
       "      <td>133.460</td>\n",
       "      <td>131.100</td>\n",
       "      <td>131.32</td>\n",
       "      <td>54930064</td>\n",
       "      <td>131.97</td>\n",
       "      <td>133.460</td>\n",
       "      <td>131.100</td>\n",
       "      <td>131.32</td>\n",
       "      <td>54930064</td>\n",
       "      <td>0.0</td>\n",
       "      <td>1.0</td>\n",
       "    </tr>\n",
       "    <tr>\n",
       "      <th>1256</th>\n",
       "      <td>AAPL</td>\n",
       "      <td>2020-12-28 00:00:00+00:00</td>\n",
       "      <td>136.69</td>\n",
       "      <td>137.340</td>\n",
       "      <td>133.510</td>\n",
       "      <td>133.99</td>\n",
       "      <td>123124632</td>\n",
       "      <td>136.69</td>\n",
       "      <td>137.340</td>\n",
       "      <td>133.510</td>\n",
       "      <td>133.99</td>\n",
       "      <td>123124632</td>\n",
       "      <td>0.0</td>\n",
       "      <td>1.0</td>\n",
       "    </tr>\n",
       "  </tbody>\n",
       "</table>\n",
       "</div>"
      ],
      "text/plain": [
       "     symbol                       date   close     high      low    open  \\\n",
       "1252   AAPL  2020-12-21 00:00:00+00:00  128.23  128.310  123.449  125.02   \n",
       "1253   AAPL  2020-12-22 00:00:00+00:00  131.88  134.405  129.650  131.61   \n",
       "1254   AAPL  2020-12-23 00:00:00+00:00  130.96  132.430  130.780  132.16   \n",
       "1255   AAPL  2020-12-24 00:00:00+00:00  131.97  133.460  131.100  131.32   \n",
       "1256   AAPL  2020-12-28 00:00:00+00:00  136.69  137.340  133.510  133.99   \n",
       "\n",
       "         volume  adjClose  adjHigh   adjLow  adjOpen  adjVolume  divCash  \\\n",
       "1252  121251553    128.23  128.310  123.449   125.02  121251553      0.0   \n",
       "1253  169351825    131.88  134.405  129.650   131.61  169351825      0.0   \n",
       "1254   88223692    130.96  132.430  130.780   132.16   88223692      0.0   \n",
       "1255   54930064    131.97  133.460  131.100   131.32   54930064      0.0   \n",
       "1256  123124632    136.69  137.340  133.510   133.99  123124632      0.0   \n",
       "\n",
       "      splitFactor  \n",
       "1252          1.0  \n",
       "1253          1.0  \n",
       "1254          1.0  \n",
       "1255          1.0  \n",
       "1256          1.0  "
      ]
     },
     "execution_count": 18,
     "metadata": {},
     "output_type": "execute_result"
    }
   ],
   "source": [
    "# Reading the tail of the dataset\n",
    "df.tail()"
   ]
  },
  {
   "cell_type": "code",
   "execution_count": 14,
   "metadata": {},
   "outputs": [
    {
     "data": {
      "text/plain": [
       "Index(['symbol', 'date', 'close', 'high', 'low', 'open', 'volume', 'adjClose',\n",
       "       'adjHigh', 'adjLow', 'adjOpen', 'adjVolume', 'divCash', 'splitFactor'],\n",
       "      dtype='object')"
      ]
     },
     "execution_count": 14,
     "metadata": {},
     "output_type": "execute_result"
    }
   ],
   "source": [
    "# checking the columns of the dataset\n",
    "df.columns"
   ]
  },
  {
   "cell_type": "code",
   "execution_count": 15,
   "metadata": {},
   "outputs": [
    {
     "data": {
      "text/plain": [
       "symbol         0\n",
       "date           0\n",
       "close          0\n",
       "high           0\n",
       "low            0\n",
       "open           0\n",
       "volume         0\n",
       "adjClose       0\n",
       "adjHigh        0\n",
       "adjLow         0\n",
       "adjOpen        0\n",
       "adjVolume      0\n",
       "divCash        0\n",
       "splitFactor    0\n",
       "dtype: int64"
      ]
     },
     "execution_count": 15,
     "metadata": {},
     "output_type": "execute_result"
    }
   ],
   "source": [
    "# checking for any null values\n",
    "df.isnull().sum()"
   ]
  },
  {
   "cell_type": "code",
   "execution_count": 25,
   "metadata": {},
   "outputs": [
    {
     "data": {
      "text/plain": [
       "0       105.26\n",
       "1       105.35\n",
       "2       102.71\n",
       "3       100.70\n",
       "4        96.45\n",
       "         ...  \n",
       "1252    128.23\n",
       "1253    131.88\n",
       "1254    130.96\n",
       "1255    131.97\n",
       "1256    136.69\n",
       "Name: close, Length: 1257, dtype: float64"
      ]
     },
     "execution_count": 25,
     "metadata": {},
     "output_type": "execute_result"
    }
   ],
   "source": [
    "# we will be predicting the for this column\n",
    "df1 = df.reset_index()['close']\n",
    "df1"
   ]
  },
  {
   "cell_type": "code",
   "execution_count": 26,
   "metadata": {},
   "outputs": [
    {
     "data": {
      "text/plain": [
       "(1257,)"
      ]
     },
     "execution_count": 26,
     "metadata": {},
     "output_type": "execute_result"
    }
   ],
   "source": [
    "df1.shape"
   ]
  },
  {
   "cell_type": "markdown",
   "metadata": {},
   "source": [
    "### Visualizing your stock price"
   ]
  },
  {
   "cell_type": "code",
   "execution_count": 28,
   "metadata": {},
   "outputs": [
    {
     "data": {
      "text/plain": [
       "[<matplotlib.lines.Line2D at 0x188ce589e48>]"
      ]
     },
     "execution_count": 28,
     "metadata": {},
     "output_type": "execute_result"
    },
    {
     "data": {
      "image/png": "[encoded data removed]",
      "text/plain": [
       "<Figure size 432x288 with 1 Axes>"
      ]
     },
     "metadata": {
      "needs_background": "light"
     },
     "output_type": "display_data"
    }
   ],
   "source": [
    "plt.plot(df1)"
   ]
  },
  {
   "cell_type": "markdown",
   "metadata": {},
   "source": [
    "### LSTM are sensitive to the scale of the data, so we apply MinMax scaler"
   ]
  },
  {
   "cell_type": "code",
   "execution_count": 34,
   "metadata": {},
   "outputs": [],
   "source": [
    "from sklearn.preprocessing import MinMaxScaler\n",
    "\n",
    "# we are settting the feature range to 0,1. This is because we need to scale it down to a value between 0 and 1\n",
    "scaler = MinMaxScaler(feature_range=(0,1))\n",
    "\n",
    "# converting the df1 into an array\n",
    "df1 = scaler.fit_transform(np.array(df1).reshape(-1,1))"
   ]
  },
  {
   "cell_type": "code",
   "execution_count": 35,
   "metadata": {},
   "outputs": [
    {
     "data": {
      "text/plain": [
       "array([[0.03588695],\n",
       "       [0.03610343],\n",
       "       [0.02975346],\n",
       "       ...,\n",
       "       [0.09770295],\n",
       "       [0.10013229],\n",
       "       [0.11148527]])"
      ]
     },
     "execution_count": 35,
     "metadata": {},
     "output_type": "execute_result"
    }
   ],
   "source": [
    "# now for df1 you get an array of values between 0 to 1\n",
    "df1"
   ]
  },
  {
   "cell_type": "markdown",
   "metadata": {},
   "source": [
    "### Performing Train-Test split "
   ]
  },
  {
   "cell_type": "code",
   "execution_count": 37,
   "metadata": {},
   "outputs": [],
   "source": [
    "# For time series data this process is a bit different, this is because the next data is depended on the previous data.\n",
    "# Eg: The stock price for today will be dependent on t yesterdays stock price value\n",
    "# Therefore train-test split happens a bit differently\n",
    "\n",
    "training_size = int(len(df1) * 0.65)\n",
    "test_size = len(df1) - training_size\n",
    "train_data, test_data = df1[0:training_size, :], df1[training_size:len(df1),:1]"
   ]
  },
  {
   "cell_type": "markdown",
   "metadata": {},
   "source": [
    "### Creating a function which splits the data properly into dependent and independent dataset"
   ]
  },
  {
   "cell_type": "code",
   "execution_count": 40,
   "metadata": {},
   "outputs": [],
   "source": [
    "def create_dataset(dataset, time_step=1):\n",
    "    dataX, dataY = [], []\n",
    "    for i in range(len(dataset)-time_step-1):\n",
    "        a = dataset[i:(i+time_step),0]\n",
    "        dataX.append(a)\n",
    "        dataY.append(dataset[i + time_step, 0])\n",
    "    return np.array(dataX), np.array(dataY)"
   ]
  },
  {
   "cell_type": "markdown",
   "metadata": {},
   "source": [
    "### Reshape into X=t, t+1, t+2, t+3 and Y=t+4"
   ]
  },
  {
   "cell_type": "code",
   "execution_count": 41,
   "metadata": {},
   "outputs": [],
   "source": [
    "time_step = 100\n",
    "X_train, y_train = create_dataset(train_data, time_step)\n",
    "X_test, y_test = create_dataset(test_data, time_step)"
   ]
  },
  {
   "cell_type": "code",
   "execution_count": 42,
   "metadata": {},
   "outputs": [
    {
     "data": {
      "text/plain": [
       "array([[0.03588695, 0.03610343, 0.02975346, ..., 0.01173782, 0.01464823,\n",
       "        0.018184  ],\n",
       "       [0.03610343, 0.02975346, 0.02491882, ..., 0.01464823, 0.018184  ,\n",
       "        0.02232111],\n",
       "       [0.02975346, 0.02491882, 0.01469633, ..., 0.018184  , 0.02232111,\n",
       "        0.02422129],\n",
       "       ...,\n",
       "       [0.29575466, 0.30912808, 0.31720986, ..., 0.24223692, 0.2366807 ,\n",
       "        0.23199038],\n",
       "       [0.30912808, 0.31720986, 0.28175586, ..., 0.2366807 , 0.23199038,\n",
       "        0.23603127],\n",
       "       [0.31720986, 0.28175586, 0.2675887 , ..., 0.23199038, 0.23603127,\n",
       "        0.23663259]])"
      ]
     },
     "execution_count": 42,
     "metadata": {},
     "output_type": "execute_result"
    }
   ],
   "source": [
    "# Displaying the X_train data\n",
    "X_train"
   ]
  },
  {
   "cell_type": "code",
   "execution_count": 43,
   "metadata": {},
   "outputs": [
    {
     "data": {
      "text/plain": [
       "((716, 100), (339, 100))"
      ]
     },
     "execution_count": 43,
     "metadata": {},
     "output_type": "execute_result"
    }
   ],
   "source": [
    "# Displaying the shape \n",
    "X_train.shape, X_test.shape"
   ]
  },
  {
   "cell_type": "code",
   "execution_count": 45,
   "metadata": {},
   "outputs": [
    {
     "data": {
      "text/plain": [
       "((716,), (339,))"
      ]
     },
     "execution_count": 45,
     "metadata": {},
     "output_type": "execute_result"
    }
   ],
   "source": [
    "# Displaying the shape \n",
    "y_train.shape, y_test.shape"
   ]
  },
  {
   "cell_type": "markdown",
   "metadata": {},
   "source": [
    "### Reshape input to be [sample, time steps, features] which is required for LSTM"
   ]
  },
  {
   "cell_type": "code",
   "execution_count": 46,
   "metadata": {},
   "outputs": [],
   "source": [
    "X_train = X_train.reshape(X_train.shape[0], X_train.shape[1], 1)\n",
    "X_test = X_test.reshape(X_test.shape[0], X_test.shape[1], 1)"
   ]
  },
  {
   "cell_type": "markdown",
   "metadata": {},
   "source": [
    "### Creating the LSTM model"
   ]
  },
  {
   "cell_type": "code",
   "execution_count": 49,
   "metadata": {},
   "outputs": [],
   "source": [
    "from tensorflow.keras.models import Sequential\n",
    "from tensorflow.keras.layers import Dense\n",
    "from tensorflow.keras.layers import LSTM\n",
    "\n",
    "model = Sequential()\n",
    "model.add(LSTM(50, return_sequences=True, input_shape=(100, 1)))\n",
    "model.add(LSTM(50, return_sequences=True))\n",
    "model.add(LSTM(50))\n",
    "model.add(Dense(1))\n",
    "model.compile(loss=\"mean_squared_error\", optimizer=\"adam\")"
   ]
  },
  {
   "cell_type": "code",
   "execution_count": 50,
   "metadata": {},
   "outputs": [
    {
     "name": "stdout",
     "output_type": "stream",
     "text": [
      "Model: \"sequential\"\n",
      "_________________________________________________________________\n",
      "Layer (type)                 Output Shape              Param #   \n",
      "=================================================================\n",
      "lstm (LSTM)                  (None, 100, 50)           10400     \n",
      "_________________________________________________________________\n",
      "lstm_1 (LSTM)                (None, 100, 50)           20200     \n",
      "_________________________________________________________________\n",
      "lstm_2 (LSTM)                (None, 50)                20200     \n",
      "_________________________________________________________________\n",
      "dense (Dense)                (None, 1)                 51        \n",
      "=================================================================\n",
      "Total params: 50,851\n",
      "Trainable params: 50,851\n",
      "Non-trainable params: 0\n",
      "_________________________________________________________________\n"
     ]
    }
   ],
   "source": [
    "model.summary()"
   ]
  },
  {
   "cell_type": "markdown",
   "metadata": {},
   "source": [
    "### Fitting the model\n"
   ]
  },
  {
   "cell_type": "code",
   "execution_count": 51,
   "metadata": {},
   "outputs": [
    {
     "name": "stdout",
     "output_type": "stream",
     "text": [
      "Epoch 1/100\n",
      "12/12 [==============================] - 2s 188ms/step - loss: 0.0092 - val_loss: 0.0568\n",
      "Epoch 2/100\n",
      "12/12 [==============================] - 1s 112ms/step - loss: 0.0022 - val_loss: 0.0225\n",
      "Epoch 3/100\n",
      "12/12 [==============================] - 1s 115ms/step - loss: 6.5690e-04 - val_loss: 0.0226\n",
      "Epoch 4/100\n",
      "12/12 [==============================] - 1s 118ms/step - loss: 4.6254e-04 - val_loss: 0.0211\n",
      "Epoch 5/100\n",
      "12/12 [==============================] - 1s 113ms/step - loss: 3.5831e-04 - val_loss: 0.0187\n",
      "Epoch 6/100\n",
      "12/12 [==============================] - 2s 131ms/step - loss: 3.3675e-04 - val_loss: 0.0182\n",
      "Epoch 7/100\n",
      "12/12 [==============================] - 2s 176ms/step - loss: 3.1027e-04 - val_loss: 0.0179\n",
      "Epoch 8/100\n",
      "12/12 [==============================] - 2s 182ms/step - loss: 3.1627e-04 - val_loss: 0.0172\n",
      "Epoch 9/100\n",
      "12/12 [==============================] - 2s 175ms/step - loss: 2.8370e-04 - val_loss: 0.0168\n",
      "Epoch 10/100\n",
      "12/12 [==============================] - 2s 175ms/step - loss: 2.6352e-04 - val_loss: 0.0160\n",
      "Epoch 11/100\n",
      "12/12 [==============================] - 2s 171ms/step - loss: 2.4829e-04 - val_loss: 0.0154\n",
      "Epoch 12/100\n",
      "12/12 [==============================] - 2s 173ms/step - loss: 2.4633e-04 - val_loss: 0.0149\n",
      "Epoch 13/100\n",
      "12/12 [==============================] - 2s 174ms/step - loss: 2.1989e-04 - val_loss: 0.0147\n",
      "Epoch 14/100\n",
      "12/12 [==============================] - 2s 173ms/step - loss: 2.1305e-04 - val_loss: 0.0146\n",
      "Epoch 15/100\n",
      "12/12 [==============================] - 2s 173ms/step - loss: 2.0480e-04 - val_loss: 0.0160\n",
      "Epoch 16/100\n",
      "12/12 [==============================] - 2s 172ms/step - loss: 2.1456e-04 - val_loss: 0.0147\n",
      "Epoch 17/100\n",
      "12/12 [==============================] - 2s 174ms/step - loss: 2.0520e-04 - val_loss: 0.0150\n",
      "Epoch 18/100\n",
      "12/12 [==============================] - 2s 178ms/step - loss: 1.8523e-04 - val_loss: 0.0145\n",
      "Epoch 19/100\n",
      "12/12 [==============================] - 2s 176ms/step - loss: 1.9938e-04 - val_loss: 0.0152\n",
      "Epoch 20/100\n",
      "12/12 [==============================] - 2s 174ms/step - loss: 2.0110e-04 - val_loss: 0.0141\n",
      "Epoch 21/100\n",
      "12/12 [==============================] - 2s 174ms/step - loss: 1.9157e-04 - val_loss: 0.0144\n",
      "Epoch 22/100\n",
      "12/12 [==============================] - 2s 173ms/step - loss: 1.7876e-04 - val_loss: 0.0148\n",
      "Epoch 23/100\n",
      "12/12 [==============================] - 2s 171ms/step - loss: 1.7631e-04 - val_loss: 0.0153\n",
      "Epoch 24/100\n",
      "12/12 [==============================] - 2s 171ms/step - loss: 1.7485e-04 - val_loss: 0.0151\n",
      "Epoch 25/100\n",
      "12/12 [==============================] - 2s 172ms/step - loss: 1.7136e-04 - val_loss: 0.0149\n",
      "Epoch 26/100\n",
      "12/12 [==============================] - 2s 173ms/step - loss: 1.7012e-04 - val_loss: 0.0147\n",
      "Epoch 27/100\n",
      "12/12 [==============================] - 2s 174ms/step - loss: 1.7205e-04 - val_loss: 0.0148\n",
      "Epoch 28/100\n",
      "12/12 [==============================] - 2s 172ms/step - loss: 1.8355e-04 - val_loss: 0.0142\n",
      "Epoch 29/100\n",
      "12/12 [==============================] - 2s 173ms/step - loss: 1.8433e-04 - val_loss: 0.0132\n",
      "Epoch 30/100\n",
      "12/12 [==============================] - 2s 174ms/step - loss: 1.8743e-04 - val_loss: 0.0153\n",
      "Epoch 31/100\n",
      "12/12 [==============================] - 2s 174ms/step - loss: 1.7465e-04 - val_loss: 0.0130\n",
      "Epoch 32/100\n",
      "12/12 [==============================] - 2s 172ms/step - loss: 1.7904e-04 - val_loss: 0.0136\n",
      "Epoch 33/100\n",
      "12/12 [==============================] - 2s 169ms/step - loss: 1.7861e-04 - val_loss: 0.0142\n",
      "Epoch 34/100\n",
      "12/12 [==============================] - 2s 190ms/step - loss: 1.5714e-04 - val_loss: 0.0133-\n",
      "Epoch 35/100\n",
      "12/12 [==============================] - 2s 177ms/step - loss: 1.7016e-04 - val_loss: 0.0132\n",
      "Epoch 36/100\n",
      "12/12 [==============================] - 2s 171ms/step - loss: 1.6658e-04 - val_loss: 0.0137\n",
      "Epoch 37/100\n",
      "12/12 [==============================] - 2s 174ms/step - loss: 1.5793e-04 - val_loss: 0.0137\n",
      "Epoch 38/100\n",
      "12/12 [==============================] - 2s 171ms/step - loss: 1.7031e-04 - val_loss: 0.0131\n",
      "Epoch 39/100\n",
      "12/12 [==============================] - 2s 164ms/step - loss: 1.5105e-04 - val_loss: 0.0131\n",
      "Epoch 40/100\n",
      "12/12 [==============================] - 2s 164ms/step - loss: 1.4760e-04 - val_loss: 0.0136\n",
      "Epoch 41/100\n",
      "12/12 [==============================] - 2s 164ms/step - loss: 1.5184e-04 - val_loss: 0.0126\n",
      "Epoch 42/100\n",
      "12/12 [==============================] - 2s 164ms/step - loss: 1.5834e-04 - val_loss: 0.0129\n",
      "Epoch 43/100\n",
      "12/12 [==============================] - 2s 165ms/step - loss: 1.4716e-04 - val_loss: 0.0125\n",
      "Epoch 44/100\n",
      "12/12 [==============================] - 2s 163ms/step - loss: 1.5661e-04 - val_loss: 0.0131\n",
      "Epoch 45/100\n",
      "12/12 [==============================] - 2s 164ms/step - loss: 1.4608e-04 - val_loss: 0.0124\n",
      "Epoch 46/100\n",
      "12/12 [==============================] - 2s 164ms/step - loss: 1.4262e-04 - val_loss: 0.0135\n",
      "Epoch 47/100\n",
      "12/12 [==============================] - 2s 163ms/step - loss: 1.6503e-04 - val_loss: 0.0122\n",
      "Epoch 48/100\n",
      "12/12 [==============================] - 2s 171ms/step - loss: 1.4476e-04 - val_loss: 0.0116\n",
      "Epoch 49/100\n",
      "12/12 [==============================] - 2s 165ms/step - loss: 1.5059e-04 - val_loss: 0.0134\n",
      "Epoch 50/100\n",
      "12/12 [==============================] - 2s 165ms/step - loss: 1.7534e-04 - val_loss: 0.0117\n",
      "Epoch 51/100\n",
      "12/12 [==============================] - 2s 171ms/step - loss: 1.6679e-04 - val_loss: 0.0122\n",
      "Epoch 52/100\n",
      "12/12 [==============================] - 2s 166ms/step - loss: 1.4539e-04 - val_loss: 0.0116\n",
      "Epoch 53/100\n",
      "12/12 [==============================] - 2s 175ms/step - loss: 1.4960e-04 - val_loss: 0.0113\n",
      "Epoch 54/100\n",
      "12/12 [==============================] - 2s 181ms/step - loss: 1.3184e-04 - val_loss: 0.0112\n",
      "Epoch 55/100\n",
      "12/12 [==============================] - 2s 179ms/step - loss: 1.3193e-04 - val_loss: 0.0115\n",
      "Epoch 56/100\n",
      "12/12 [==============================] - 2s 181ms/step - loss: 1.2941e-04 - val_loss: 0.0113\n",
      "Epoch 57/100\n",
      "12/12 [==============================] - 2s 179ms/step - loss: 1.3058e-04 - val_loss: 0.0110\n",
      "Epoch 58/100\n",
      "12/12 [==============================] - 2s 169ms/step - loss: 1.2724e-04 - val_loss: 0.0114\n",
      "Epoch 59/100\n",
      "12/12 [==============================] - 2s 164ms/step - loss: 1.3760e-04 - val_loss: 0.0104\n",
      "Epoch 60/100\n",
      "12/12 [==============================] - 2s 166ms/step - loss: 1.2896e-04 - val_loss: 0.0103\n",
      "Epoch 61/100\n",
      "12/12 [==============================] - 2s 166ms/step - loss: 1.2775e-04 - val_loss: 0.0103\n",
      "Epoch 62/100\n",
      "12/12 [==============================] - 2s 172ms/step - loss: 1.2667e-04 - val_loss: 0.0100\n",
      "Epoch 63/100\n",
      "12/12 [==============================] - 2s 174ms/step - loss: 1.2692e-04 - val_loss: 0.0097\n",
      "Epoch 64/100\n",
      "12/12 [==============================] - 2s 175ms/step - loss: 1.3037e-04 - val_loss: 0.0111\n",
      "Epoch 65/100\n",
      "12/12 [==============================] - 2s 170ms/step - loss: 1.3131e-04 - val_loss: 0.0094\n",
      "Epoch 66/100\n",
      "12/12 [==============================] - 2s 168ms/step - loss: 1.3857e-04 - val_loss: 0.0093\n",
      "Epoch 67/100\n",
      "12/12 [==============================] - 2s 166ms/step - loss: 1.2795e-04 - val_loss: 0.0096\n",
      "Epoch 68/100\n",
      "12/12 [==============================] - 2s 178ms/step - loss: 1.1548e-04 - val_loss: 0.0091\n",
      "Epoch 69/100\n",
      "12/12 [==============================] - 2s 175ms/step - loss: 1.1531e-04 - val_loss: 0.0090\n",
      "Epoch 70/100\n",
      "12/12 [==============================] - 2s 169ms/step - loss: 1.1000e-04 - val_loss: 0.0096\n",
      "Epoch 71/100\n",
      "12/12 [==============================] - 2s 170ms/step - loss: 1.2540e-04 - val_loss: 0.0088\n",
      "Epoch 72/100\n",
      "12/12 [==============================] - 2s 169ms/step - loss: 1.1299e-04 - val_loss: 0.0087\n",
      "Epoch 73/100\n",
      "12/12 [==============================] - 2s 165ms/step - loss: 1.1315e-04 - val_loss: 0.0084\n",
      "Epoch 74/100\n",
      "12/12 [==============================] - 2s 167ms/step - loss: 1.0903e-04 - val_loss: 0.0093\n",
      "Epoch 75/100\n",
      "12/12 [==============================] - 2s 167ms/step - loss: 1.2585e-04 - val_loss: 0.0081\n",
      "Epoch 76/100\n",
      "12/12 [==============================] - 2s 168ms/step - loss: 1.4480e-04 - val_loss: 0.0080\n",
      "Epoch 77/100\n",
      "12/12 [==============================] - 2s 169ms/step - loss: 1.3036e-04 - val_loss: 0.0086\n",
      "Epoch 78/100\n"
     ]
    },
    {
     "name": "stdout",
     "output_type": "stream",
     "text": [
      "12/12 [==============================] - 2s 168ms/step - loss: 1.0693e-04 - val_loss: 0.0094\n",
      "Epoch 79/100\n",
      "12/12 [==============================] - 2s 167ms/step - loss: 1.2149e-04 - val_loss: 0.0078\n",
      "Epoch 80/100\n",
      "12/12 [==============================] - 2s 170ms/step - loss: 1.0824e-04 - val_loss: 0.0078\n",
      "Epoch 81/100\n",
      "12/12 [==============================] - 2s 166ms/step - loss: 1.0681e-04 - val_loss: 0.0076\n",
      "Epoch 82/100\n",
      "12/12 [==============================] - 2s 167ms/step - loss: 1.0606e-04 - val_loss: 0.0075\n",
      "Epoch 83/100\n",
      "12/12 [==============================] - 2s 166ms/step - loss: 1.0100e-04 - val_loss: 0.0075\n",
      "Epoch 84/100\n",
      "12/12 [==============================] - 2s 166ms/step - loss: 1.0416e-04 - val_loss: 0.0073\n",
      "Epoch 85/100\n",
      "12/12 [==============================] - 2s 169ms/step - loss: 1.0206e-04 - val_loss: 0.0092\n",
      "Epoch 86/100\n",
      "12/12 [==============================] - 2s 167ms/step - loss: 9.9886e-05 - val_loss: 0.0072\n",
      "Epoch 87/100\n",
      "12/12 [==============================] - 2s 166ms/step - loss: 9.7829e-05 - val_loss: 0.0075\n",
      "Epoch 88/100\n",
      "12/12 [==============================] - 2s 169ms/step - loss: 9.0361e-05 - val_loss: 0.0076\n",
      "Epoch 89/100\n",
      "12/12 [==============================] - 2s 166ms/step - loss: 9.3089e-05 - val_loss: 0.0072\n",
      "Epoch 90/100\n",
      "12/12 [==============================] - 2s 167ms/step - loss: 8.9319e-05 - val_loss: 0.0078\n",
      "Epoch 91/100\n",
      "12/12 [==============================] - 2s 166ms/step - loss: 1.2769e-04 - val_loss: 0.0067\n",
      "Epoch 92/100\n",
      "12/12 [==============================] - 2s 168ms/step - loss: 1.2119e-04 - val_loss: 0.0067\n",
      "Epoch 93/100\n",
      "12/12 [==============================] - 2s 169ms/step - loss: 9.1591e-05 - val_loss: 0.0074\n",
      "Epoch 94/100\n",
      "12/12 [==============================] - 2s 167ms/step - loss: 8.9979e-05 - val_loss: 0.0068\n",
      "Epoch 95/100\n",
      "12/12 [==============================] - 2s 166ms/step - loss: 9.0357e-05 - val_loss: 0.0067\n",
      "Epoch 96/100\n",
      "12/12 [==============================] - 2s 166ms/step - loss: 9.0711e-05 - val_loss: 0.0071\n",
      "Epoch 97/100\n",
      "12/12 [==============================] - 2s 167ms/step - loss: 8.9855e-05 - val_loss: 0.0064\n",
      "Epoch 98/100\n",
      "12/12 [==============================] - 2s 168ms/step - loss: 8.8160e-05 - val_loss: 0.0062\n",
      "Epoch 99/100\n",
      "12/12 [==============================] - 2s 166ms/step - loss: 9.9218e-05 - val_loss: 0.0067\n",
      "Epoch 100/100\n",
      "12/12 [==============================] - 2s 167ms/step - loss: 9.1015e-05 - val_loss: 0.0064\n"
     ]
    },
    {
     "data": {
      "text/plain": [
       "<tensorflow.python.keras.callbacks.History at 0x188e96c99c8>"
      ]
     },
     "execution_count": 51,
     "metadata": {},
     "output_type": "execute_result"
    }
   ],
   "source": [
    "model.fit(X_train, y_train, validation_data=(X_test,y_test), epochs=100, batch_size=64, verbose=1)"
   ]
  },
  {
   "cell_type": "markdown",
   "metadata": {},
   "source": [
    "### Lets Do the prediction and check performance metrics"
   ]
  },
  {
   "cell_type": "code",
   "execution_count": 52,
   "metadata": {},
   "outputs": [],
   "source": [
    "train_predict = model.predict(X_train)\n",
    "test_predict = model.predict(X_test)"
   ]
  },
  {
   "cell_type": "markdown",
   "metadata": {},
   "source": [
    "### Transform back to original form"
   ]
  },
  {
   "cell_type": "code",
   "execution_count": 53,
   "metadata": {},
   "outputs": [],
   "source": [
    "# Perform the reverse scale because we have scaled for training purposes already\n",
    "train_predict = scaler.inverse_transform(train_predict)\n",
    "test_predict = scaler.inverse_transform(test_predict)"
   ]
  },
  {
   "cell_type": "markdown",
   "metadata": {},
   "source": [
    "### Calculate RMSE performance metrisc"
   ]
  },
  {
   "cell_type": "code",
   "execution_count": 54,
   "metadata": {},
   "outputs": [
    {
     "data": {
      "text/plain": [
       "159.205674611561"
      ]
     },
     "execution_count": 54,
     "metadata": {},
     "output_type": "execute_result"
    }
   ],
   "source": [
    "# RMSE --> Root Mean Square Error\n",
    "import math\n",
    "from sklearn.metrics import mean_squared_error\n",
    "math.sqrt(mean_squared_error(y_train,train_predict))"
   ]
  },
  {
   "cell_type": "markdown",
   "metadata": {},
   "source": [
    "### Test Data RMSE"
   ]
  },
  {
   "cell_type": "code",
   "execution_count": 55,
   "metadata": {},
   "outputs": [
    {
     "data": {
      "text/plain": [
       "264.2863536537824"
      ]
     },
     "execution_count": 55,
     "metadata": {},
     "output_type": "execute_result"
    }
   ],
   "source": [
    "math.sqrt(mean_squared_error(y_test,test_predict))"
   ]
  },
  {
   "cell_type": "markdown",
   "metadata": {},
   "source": [
    "### Plotting"
   ]
  },
  {
   "cell_type": "code",
   "execution_count": 57,
   "metadata": {},
   "outputs": [
    {
     "data": {
      "image/png": "[encoded data removed]",
      "text/plain": [
       "<Figure size 432x288 with 1 Axes>"
      ]
     },
     "metadata": {
      "needs_background": "light"
     },
     "output_type": "display_data"
    }
   ],
   "source": [
    "# shift train predictions for plotting\n",
    "look_back = 100\n",
    "trainPredictPlot = np.empty_like(df1)\n",
    "trainPredictPlot[:,:] = np.nan\n",
    "trainPredictPlot[look_back: len(train_predict)+look_back, :] = train_predict\n",
    "\n",
    "# shift test predictions for plotting\n",
    "testPredictPlot = np.empty_like(df1)\n",
    "testPredictPlot[:, :] = np.nan\n",
    "testPredictPlot[len(train_predict) + (look_back*2)+1: len(df1)-1,:] = test_predict\n",
    "\n",
    "# plot baseline and predictions\n",
    "plt.plot(scaler.inverse_transform(df1))\n",
    "plt.plot(trainPredictPlot)\n",
    "plt.plot(testPredictPlot)\n",
    "plt.show()\n",
    "\n",
    "# green color is the predicted test data\n",
    "# orange color is the predicted train data\n"
   ]
  },
  {
   "cell_type": "code",
   "execution_count": 65,
   "metadata": {},
   "outputs": [
    {
     "data": {
      "text/plain": [
       "(1, 100)"
      ]
     },
     "execution_count": 65,
     "metadata": {},
     "output_type": "execute_result"
    }
   ],
   "source": [
    "# Input data sample (for the previous 100 days to predict for future, because to predict a future value we \n",
    "# need the previous 100 days output)\n",
    "x_input = test_data[340:].reshape(1,-1)\n",
    "x_input.shape"
   ]
  },
  {
   "cell_type": "code",
   "execution_count": 66,
   "metadata": {},
   "outputs": [],
   "source": [
    "temp_input = list(x_input)\n",
    "temp_input = temp_input[0].tolist()"
   ]
  },
  {
   "cell_type": "markdown",
   "metadata": {},
   "source": [
    "### Prediction for the next 10 days"
   ]
  },
  {
   "cell_type": "code",
   "execution_count": 67,
   "metadata": {},
   "outputs": [
    {
     "name": "stdout",
     "output_type": "stream",
     "text": [
      "[0.09636471]\n",
      "101\n",
      "1 day input [0.85173782 0.86727601 0.83502105 0.86999399 0.88923632 0.88825015\n",
      " 0.8853638  0.89455201 0.89594708 0.92064943 0.97929044 0.99360192\n",
      " 0.98366807 1.         0.98544799 0.9834997  0.09308479 0.10544799\n",
      " 0.09876127 0.07345761 0.07365003 0.05407096 0.06489477 0.0556825\n",
      " 0.05209862 0.06016837 0.06061335 0.0524113  0.04810583 0.03968731\n",
      " 0.04748046 0.05164161 0.04036079 0.04300661 0.0527721  0.05921828\n",
      " 0.05712568 0.06126278 0.06361996 0.05455201 0.06292243 0.05488876\n",
      " 0.05950692 0.05924233 0.06405292 0.08192423 0.07398677 0.07420325\n",
      " 0.07304871 0.06898376 0.06167168 0.06535177 0.06381239 0.06111846\n",
      " 0.0594107  0.05943476 0.06316296 0.05017438 0.06008419 0.044546\n",
      " 0.04432952 0.04834636 0.05919423 0.06900782 0.06819002 0.06248948\n",
      " 0.06164762 0.07011425 0.06944077 0.06956103 0.07206254 0.06987372\n",
      " 0.06660253 0.06806975 0.06494287 0.05654841 0.05972339 0.06179194\n",
      " 0.06313891 0.06905592 0.07788334 0.07874925 0.07841251 0.07675286\n",
      " 0.08036079 0.08187613 0.07562237 0.0791341  0.0771377  0.07562237\n",
      " 0.09029465 0.09012628 0.09226699 0.08734817 0.0911365  0.09991581\n",
      " 0.09770295 0.10013229 0.11148527 0.09636471]\n",
      "1 day output [[0.09839754]]\n",
      "2 day input [0.86727601 0.83502105 0.86999399 0.88923632 0.88825015 0.8853638\n",
      " 0.89455201 0.89594708 0.92064943 0.97929044 0.99360192 0.98366807\n",
      " 1.         0.98544799 0.9834997  0.09308479 0.10544799 0.09876127\n",
      " 0.07345761 0.07365003 0.05407096 0.06489477 0.0556825  0.05209862\n",
      " 0.06016837 0.06061335 0.0524113  0.04810583 0.03968731 0.04748046\n",
      " 0.05164161 0.04036079 0.04300661 0.0527721  0.05921828 0.05712568\n",
      " 0.06126278 0.06361996 0.05455201 0.06292243 0.05488876 0.05950692\n",
      " 0.05924233 0.06405292 0.08192423 0.07398677 0.07420325 0.07304871\n",
      " 0.06898376 0.06167168 0.06535177 0.06381239 0.06111846 0.0594107\n",
      " 0.05943476 0.06316296 0.05017438 0.06008419 0.044546   0.04432952\n",
      " 0.04834636 0.05919423 0.06900782 0.06819002 0.06248948 0.06164762\n",
      " 0.07011425 0.06944077 0.06956103 0.07206254 0.06987372 0.06660253\n",
      " 0.06806975 0.06494287 0.05654841 0.05972339 0.06179194 0.06313891\n",
      " 0.06905592 0.07788334 0.07874925 0.07841251 0.07675286 0.08036079\n",
      " 0.08187613 0.07562237 0.0791341  0.0771377  0.07562237 0.09029465\n",
      " 0.09012628 0.09226699 0.08734817 0.0911365  0.09991581 0.09770295\n",
      " 0.10013229 0.11148527 0.09636471 0.09839754]\n",
      "2 day output [[0.09928371]]\n",
      "3 day input [0.83502105 0.86999399 0.88923632 0.88825015 0.8853638  0.89455201\n",
      " 0.89594708 0.92064943 0.97929044 0.99360192 0.98366807 1.\n",
      " 0.98544799 0.9834997  0.09308479 0.10544799 0.09876127 0.07345761\n",
      " 0.07365003 0.05407096 0.06489477 0.0556825  0.05209862 0.06016837\n",
      " 0.06061335 0.0524113  0.04810583 0.03968731 0.04748046 0.05164161\n",
      " 0.04036079 0.04300661 0.0527721  0.05921828 0.05712568 0.06126278\n",
      " 0.06361996 0.05455201 0.06292243 0.05488876 0.05950692 0.05924233\n",
      " 0.06405292 0.08192423 0.07398677 0.07420325 0.07304871 0.06898376\n",
      " 0.06167168 0.06535177 0.06381239 0.06111846 0.0594107  0.05943476\n",
      " 0.06316296 0.05017438 0.06008419 0.044546   0.04432952 0.04834636\n",
      " 0.05919423 0.06900782 0.06819002 0.06248948 0.06164762 0.07011425\n",
      " 0.06944077 0.06956103 0.07206254 0.06987372 0.06660253 0.06806975\n",
      " 0.06494287 0.05654841 0.05972339 0.06179194 0.06313891 0.06905592\n",
      " 0.07788334 0.07874925 0.07841251 0.07675286 0.08036079 0.08187613\n",
      " 0.07562237 0.0791341  0.0771377  0.07562237 0.09029465 0.09012628\n",
      " 0.09226699 0.08734817 0.0911365  0.09991581 0.09770295 0.10013229\n",
      " 0.11148527 0.09636471 0.09839754 0.09928371]\n",
      "3 day output [[0.09934863]]\n",
      "4 day input [0.86999399 0.88923632 0.88825015 0.8853638  0.89455201 0.89594708\n",
      " 0.92064943 0.97929044 0.99360192 0.98366807 1.         0.98544799\n",
      " 0.9834997  0.09308479 0.10544799 0.09876127 0.07345761 0.07365003\n",
      " 0.05407096 0.06489477 0.0556825  0.05209862 0.06016837 0.06061335\n",
      " 0.0524113  0.04810583 0.03968731 0.04748046 0.05164161 0.04036079\n",
      " 0.04300661 0.0527721  0.05921828 0.05712568 0.06126278 0.06361996\n",
      " 0.05455201 0.06292243 0.05488876 0.05950692 0.05924233 0.06405292\n",
      " 0.08192423 0.07398677 0.07420325 0.07304871 0.06898376 0.06167168\n",
      " 0.06535177 0.06381239 0.06111846 0.0594107  0.05943476 0.06316296\n",
      " 0.05017438 0.06008419 0.044546   0.04432952 0.04834636 0.05919423\n",
      " 0.06900782 0.06819002 0.06248948 0.06164762 0.07011425 0.06944077\n",
      " 0.06956103 0.07206254 0.06987372 0.06660253 0.06806975 0.06494287\n",
      " 0.05654841 0.05972339 0.06179194 0.06313891 0.06905592 0.07788334\n",
      " 0.07874925 0.07841251 0.07675286 0.08036079 0.08187613 0.07562237\n",
      " 0.0791341  0.0771377  0.07562237 0.09029465 0.09012628 0.09226699\n",
      " 0.08734817 0.0911365  0.09991581 0.09770295 0.10013229 0.11148527\n",
      " 0.09636471 0.09839754 0.09928371 0.09934863]\n",
      "4 day output [[0.09896383]]\n",
      "5 day input [0.88923632 0.88825015 0.8853638  0.89455201 0.89594708 0.92064943\n",
      " 0.97929044 0.99360192 0.98366807 1.         0.98544799 0.9834997\n",
      " 0.09308479 0.10544799 0.09876127 0.07345761 0.07365003 0.05407096\n",
      " 0.06489477 0.0556825  0.05209862 0.06016837 0.06061335 0.0524113\n",
      " 0.04810583 0.03968731 0.04748046 0.05164161 0.04036079 0.04300661\n",
      " 0.0527721  0.05921828 0.05712568 0.06126278 0.06361996 0.05455201\n",
      " 0.06292243 0.05488876 0.05950692 0.05924233 0.06405292 0.08192423\n",
      " 0.07398677 0.07420325 0.07304871 0.06898376 0.06167168 0.06535177\n",
      " 0.06381239 0.06111846 0.0594107  0.05943476 0.06316296 0.05017438\n",
      " 0.06008419 0.044546   0.04432952 0.04834636 0.05919423 0.06900782\n",
      " 0.06819002 0.06248948 0.06164762 0.07011425 0.06944077 0.06956103\n",
      " 0.07206254 0.06987372 0.06660253 0.06806975 0.06494287 0.05654841\n",
      " 0.05972339 0.06179194 0.06313891 0.06905592 0.07788334 0.07874925\n",
      " 0.07841251 0.07675286 0.08036079 0.08187613 0.07562237 0.0791341\n",
      " 0.0771377  0.07562237 0.09029465 0.09012628 0.09226699 0.08734817\n",
      " 0.0911365  0.09991581 0.09770295 0.10013229 0.11148527 0.09636471\n",
      " 0.09839754 0.09928371 0.09934863 0.09896383]\n",
      "5 day output [[0.09840214]]\n",
      "6 day input [0.88825015 0.8853638  0.89455201 0.89594708 0.92064943 0.97929044\n",
      " 0.99360192 0.98366807 1.         0.98544799 0.9834997  0.09308479\n",
      " 0.10544799 0.09876127 0.07345761 0.07365003 0.05407096 0.06489477\n",
      " 0.0556825  0.05209862 0.06016837 0.06061335 0.0524113  0.04810583\n",
      " 0.03968731 0.04748046 0.05164161 0.04036079 0.04300661 0.0527721\n",
      " 0.05921828 0.05712568 0.06126278 0.06361996 0.05455201 0.06292243\n",
      " 0.05488876 0.05950692 0.05924233 0.06405292 0.08192423 0.07398677\n",
      " 0.07420325 0.07304871 0.06898376 0.06167168 0.06535177 0.06381239\n",
      " 0.06111846 0.0594107  0.05943476 0.06316296 0.05017438 0.06008419\n",
      " 0.044546   0.04432952 0.04834636 0.05919423 0.06900782 0.06819002\n",
      " 0.06248948 0.06164762 0.07011425 0.06944077 0.06956103 0.07206254\n",
      " 0.06987372 0.06660253 0.06806975 0.06494287 0.05654841 0.05972339\n",
      " 0.06179194 0.06313891 0.06905592 0.07788334 0.07874925 0.07841251\n",
      " 0.07675286 0.08036079 0.08187613 0.07562237 0.0791341  0.0771377\n",
      " 0.07562237 0.09029465 0.09012628 0.09226699 0.08734817 0.0911365\n",
      " 0.09991581 0.09770295 0.10013229 0.11148527 0.09636471 0.09839754\n",
      " 0.09928371 0.09934863 0.09896383 0.09840214]\n",
      "6 day output [[0.09782534]]\n",
      "7 day input [0.8853638  0.89455201 0.89594708 0.92064943 0.97929044 0.99360192\n",
      " 0.98366807 1.         0.98544799 0.9834997  0.09308479 0.10544799\n",
      " 0.09876127 0.07345761 0.07365003 0.05407096 0.06489477 0.0556825\n",
      " 0.05209862 0.06016837 0.06061335 0.0524113  0.04810583 0.03968731\n",
      " 0.04748046 0.05164161 0.04036079 0.04300661 0.0527721  0.05921828\n",
      " 0.05712568 0.06126278 0.06361996 0.05455201 0.06292243 0.05488876\n",
      " 0.05950692 0.05924233 0.06405292 0.08192423 0.07398677 0.07420325\n",
      " 0.07304871 0.06898376 0.06167168 0.06535177 0.06381239 0.06111846\n",
      " 0.0594107  0.05943476 0.06316296 0.05017438 0.06008419 0.044546\n",
      " 0.04432952 0.04834636 0.05919423 0.06900782 0.06819002 0.06248948\n",
      " 0.06164762 0.07011425 0.06944077 0.06956103 0.07206254 0.06987372\n",
      " 0.06660253 0.06806975 0.06494287 0.05654841 0.05972339 0.06179194\n",
      " 0.06313891 0.06905592 0.07788334 0.07874925 0.07841251 0.07675286\n",
      " 0.08036079 0.08187613 0.07562237 0.0791341  0.0771377  0.07562237\n",
      " 0.09029465 0.09012628 0.09226699 0.08734817 0.0911365  0.09991581\n",
      " 0.09770295 0.10013229 0.11148527 0.09636471 0.09839754 0.09928371\n",
      " 0.09934863 0.09896383 0.09840214 0.09782534]\n",
      "7 day output [[0.09731577]]\n",
      "8 day input [0.89455201 0.89594708 0.92064943 0.97929044 0.99360192 0.98366807\n",
      " 1.         0.98544799 0.9834997  0.09308479 0.10544799 0.09876127\n",
      " 0.07345761 0.07365003 0.05407096 0.06489477 0.0556825  0.05209862\n",
      " 0.06016837 0.06061335 0.0524113  0.04810583 0.03968731 0.04748046\n",
      " 0.05164161 0.04036079 0.04300661 0.0527721  0.05921828 0.05712568\n",
      " 0.06126278 0.06361996 0.05455201 0.06292243 0.05488876 0.05950692\n",
      " 0.05924233 0.06405292 0.08192423 0.07398677 0.07420325 0.07304871\n",
      " 0.06898376 0.06167168 0.06535177 0.06381239 0.06111846 0.0594107\n",
      " 0.05943476 0.06316296 0.05017438 0.06008419 0.044546   0.04432952\n",
      " 0.04834636 0.05919423 0.06900782 0.06819002 0.06248948 0.06164762\n",
      " 0.07011425 0.06944077 0.06956103 0.07206254 0.06987372 0.06660253\n",
      " 0.06806975 0.06494287 0.05654841 0.05972339 0.06179194 0.06313891\n",
      " 0.06905592 0.07788334 0.07874925 0.07841251 0.07675286 0.08036079\n",
      " 0.08187613 0.07562237 0.0791341  0.0771377  0.07562237 0.09029465\n",
      " 0.09012628 0.09226699 0.08734817 0.0911365  0.09991581 0.09770295\n",
      " 0.10013229 0.11148527 0.09636471 0.09839754 0.09928371 0.09934863\n",
      " 0.09896383 0.09840214 0.09782534 0.09731577]\n",
      "8 day output [[0.09690916]]\n",
      "9 day input [0.89594708 0.92064943 0.97929044 0.99360192 0.98366807 1.\n",
      " 0.98544799 0.9834997  0.09308479 0.10544799 0.09876127 0.07345761\n",
      " 0.07365003 0.05407096 0.06489477 0.0556825  0.05209862 0.06016837\n",
      " 0.06061335 0.0524113  0.04810583 0.03968731 0.04748046 0.05164161\n",
      " 0.04036079 0.04300661 0.0527721  0.05921828 0.05712568 0.06126278\n",
      " 0.06361996 0.05455201 0.06292243 0.05488876 0.05950692 0.05924233\n",
      " 0.06405292 0.08192423 0.07398677 0.07420325 0.07304871 0.06898376\n",
      " 0.06167168 0.06535177 0.06381239 0.06111846 0.0594107  0.05943476\n",
      " 0.06316296 0.05017438 0.06008419 0.044546   0.04432952 0.04834636\n",
      " 0.05919423 0.06900782 0.06819002 0.06248948 0.06164762 0.07011425\n",
      " 0.06944077 0.06956103 0.07206254 0.06987372 0.06660253 0.06806975\n",
      " 0.06494287 0.05654841 0.05972339 0.06179194 0.06313891 0.06905592\n",
      " 0.07788334 0.07874925 0.07841251 0.07675286 0.08036079 0.08187613\n",
      " 0.07562237 0.0791341  0.0771377  0.07562237 0.09029465 0.09012628\n",
      " 0.09226699 0.08734817 0.0911365  0.09991581 0.09770295 0.10013229\n",
      " 0.11148527 0.09636471 0.09839754 0.09928371 0.09934863 0.09896383\n",
      " 0.09840214 0.09782534 0.09731577 0.09690916]\n",
      "9 day output [[0.0966171]]\n",
      "10 day input [0.92064943 0.97929044 0.99360192 0.98366807 1.         0.98544799\n",
      " 0.9834997  0.09308479 0.10544799 0.09876127 0.07345761 0.07365003\n",
      " 0.05407096 0.06489477 0.0556825  0.05209862 0.06016837 0.06061335\n",
      " 0.0524113  0.04810583 0.03968731 0.04748046 0.05164161 0.04036079\n",
      " 0.04300661 0.0527721  0.05921828 0.05712568 0.06126278 0.06361996\n",
      " 0.05455201 0.06292243 0.05488876 0.05950692 0.05924233 0.06405292\n",
      " 0.08192423 0.07398677 0.07420325 0.07304871 0.06898376 0.06167168\n",
      " 0.06535177 0.06381239 0.06111846 0.0594107  0.05943476 0.06316296\n",
      " 0.05017438 0.06008419 0.044546   0.04432952 0.04834636 0.05919423\n",
      " 0.06900782 0.06819002 0.06248948 0.06164762 0.07011425 0.06944077\n",
      " 0.06956103 0.07206254 0.06987372 0.06660253 0.06806975 0.06494287\n",
      " 0.05654841 0.05972339 0.06179194 0.06313891 0.06905592 0.07788334\n",
      " 0.07874925 0.07841251 0.07675286 0.08036079 0.08187613 0.07562237\n",
      " 0.0791341  0.0771377  0.07562237 0.09029465 0.09012628 0.09226699\n",
      " 0.08734817 0.0911365  0.09991581 0.09770295 0.10013229 0.11148527\n",
      " 0.09636471 0.09839754 0.09928371 0.09934863 0.09896383 0.09840214\n",
      " 0.09782534 0.09731577 0.09690916 0.0966171 ]\n"
     ]
    },
    {
     "name": "stdout",
     "output_type": "stream",
     "text": [
      "10 day output [[0.09643945]]\n",
      "11 day input [0.97929044 0.99360192 0.98366807 1.         0.98544799 0.9834997\n",
      " 0.09308479 0.10544799 0.09876127 0.07345761 0.07365003 0.05407096\n",
      " 0.06489477 0.0556825  0.05209862 0.06016837 0.06061335 0.0524113\n",
      " 0.04810583 0.03968731 0.04748046 0.05164161 0.04036079 0.04300661\n",
      " 0.0527721  0.05921828 0.05712568 0.06126278 0.06361996 0.05455201\n",
      " 0.06292243 0.05488876 0.05950692 0.05924233 0.06405292 0.08192423\n",
      " 0.07398677 0.07420325 0.07304871 0.06898376 0.06167168 0.06535177\n",
      " 0.06381239 0.06111846 0.0594107  0.05943476 0.06316296 0.05017438\n",
      " 0.06008419 0.044546   0.04432952 0.04834636 0.05919423 0.06900782\n",
      " 0.06819002 0.06248948 0.06164762 0.07011425 0.06944077 0.06956103\n",
      " 0.07206254 0.06987372 0.06660253 0.06806975 0.06494287 0.05654841\n",
      " 0.05972339 0.06179194 0.06313891 0.06905592 0.07788334 0.07874925\n",
      " 0.07841251 0.07675286 0.08036079 0.08187613 0.07562237 0.0791341\n",
      " 0.0771377  0.07562237 0.09029465 0.09012628 0.09226699 0.08734817\n",
      " 0.0911365  0.09991581 0.09770295 0.10013229 0.11148527 0.09636471\n",
      " 0.09839754 0.09928371 0.09934863 0.09896383 0.09840214 0.09782534\n",
      " 0.09731577 0.09690916 0.0966171  0.09643945]\n",
      "11 day output [[0.09637029]]\n",
      "12 day input [0.99360192 0.98366807 1.         0.98544799 0.9834997  0.09308479\n",
      " 0.10544799 0.09876127 0.07345761 0.07365003 0.05407096 0.06489477\n",
      " 0.0556825  0.05209862 0.06016837 0.06061335 0.0524113  0.04810583\n",
      " 0.03968731 0.04748046 0.05164161 0.04036079 0.04300661 0.0527721\n",
      " 0.05921828 0.05712568 0.06126278 0.06361996 0.05455201 0.06292243\n",
      " 0.05488876 0.05950692 0.05924233 0.06405292 0.08192423 0.07398677\n",
      " 0.07420325 0.07304871 0.06898376 0.06167168 0.06535177 0.06381239\n",
      " 0.06111846 0.0594107  0.05943476 0.06316296 0.05017438 0.06008419\n",
      " 0.044546   0.04432952 0.04834636 0.05919423 0.06900782 0.06819002\n",
      " 0.06248948 0.06164762 0.07011425 0.06944077 0.06956103 0.07206254\n",
      " 0.06987372 0.06660253 0.06806975 0.06494287 0.05654841 0.05972339\n",
      " 0.06179194 0.06313891 0.06905592 0.07788334 0.07874925 0.07841251\n",
      " 0.07675286 0.08036079 0.08187613 0.07562237 0.0791341  0.0771377\n",
      " 0.07562237 0.09029465 0.09012628 0.09226699 0.08734817 0.0911365\n",
      " 0.09991581 0.09770295 0.10013229 0.11148527 0.09636471 0.09839754\n",
      " 0.09928371 0.09934863 0.09896383 0.09840214 0.09782534 0.09731577\n",
      " 0.09690916 0.0966171  0.09643945 0.09637029]\n",
      "12 day output [[0.09640009]]\n",
      "13 day input [0.98366807 1.         0.98544799 0.9834997  0.09308479 0.10544799\n",
      " 0.09876127 0.07345761 0.07365003 0.05407096 0.06489477 0.0556825\n",
      " 0.05209862 0.06016837 0.06061335 0.0524113  0.04810583 0.03968731\n",
      " 0.04748046 0.05164161 0.04036079 0.04300661 0.0527721  0.05921828\n",
      " 0.05712568 0.06126278 0.06361996 0.05455201 0.06292243 0.05488876\n",
      " 0.05950692 0.05924233 0.06405292 0.08192423 0.07398677 0.07420325\n",
      " 0.07304871 0.06898376 0.06167168 0.06535177 0.06381239 0.06111846\n",
      " 0.0594107  0.05943476 0.06316296 0.05017438 0.06008419 0.044546\n",
      " 0.04432952 0.04834636 0.05919423 0.06900782 0.06819002 0.06248948\n",
      " 0.06164762 0.07011425 0.06944077 0.06956103 0.07206254 0.06987372\n",
      " 0.06660253 0.06806975 0.06494287 0.05654841 0.05972339 0.06179194\n",
      " 0.06313891 0.06905592 0.07788334 0.07874925 0.07841251 0.07675286\n",
      " 0.08036079 0.08187613 0.07562237 0.0791341  0.0771377  0.07562237\n",
      " 0.09029465 0.09012628 0.09226699 0.08734817 0.0911365  0.09991581\n",
      " 0.09770295 0.10013229 0.11148527 0.09636471 0.09839754 0.09928371\n",
      " 0.09934863 0.09896383 0.09840214 0.09782534 0.09731577 0.09690916\n",
      " 0.0966171  0.09643945 0.09637029 0.09640009]\n",
      "13 day output [[0.09651712]]\n",
      "14 day input [1.         0.98544799 0.9834997  0.09308479 0.10544799 0.09876127\n",
      " 0.07345761 0.07365003 0.05407096 0.06489477 0.0556825  0.05209862\n",
      " 0.06016837 0.06061335 0.0524113  0.04810583 0.03968731 0.04748046\n",
      " 0.05164161 0.04036079 0.04300661 0.0527721  0.05921828 0.05712568\n",
      " 0.06126278 0.06361996 0.05455201 0.06292243 0.05488876 0.05950692\n",
      " 0.05924233 0.06405292 0.08192423 0.07398677 0.07420325 0.07304871\n",
      " 0.06898376 0.06167168 0.06535177 0.06381239 0.06111846 0.0594107\n",
      " 0.05943476 0.06316296 0.05017438 0.06008419 0.044546   0.04432952\n",
      " 0.04834636 0.05919423 0.06900782 0.06819002 0.06248948 0.06164762\n",
      " 0.07011425 0.06944077 0.06956103 0.07206254 0.06987372 0.06660253\n",
      " 0.06806975 0.06494287 0.05654841 0.05972339 0.06179194 0.06313891\n",
      " 0.06905592 0.07788334 0.07874925 0.07841251 0.07675286 0.08036079\n",
      " 0.08187613 0.07562237 0.0791341  0.0771377  0.07562237 0.09029465\n",
      " 0.09012628 0.09226699 0.08734817 0.0911365  0.09991581 0.09770295\n",
      " 0.10013229 0.11148527 0.09636471 0.09839754 0.09928371 0.09934863\n",
      " 0.09896383 0.09840214 0.09782534 0.09731577 0.09690916 0.0966171\n",
      " 0.09643945 0.09637029 0.09640009 0.09651712]\n",
      "14 day output [[0.09670808]]\n",
      "15 day input [0.98544799 0.9834997  0.09308479 0.10544799 0.09876127 0.07345761\n",
      " 0.07365003 0.05407096 0.06489477 0.0556825  0.05209862 0.06016837\n",
      " 0.06061335 0.0524113  0.04810583 0.03968731 0.04748046 0.05164161\n",
      " 0.04036079 0.04300661 0.0527721  0.05921828 0.05712568 0.06126278\n",
      " 0.06361996 0.05455201 0.06292243 0.05488876 0.05950692 0.05924233\n",
      " 0.06405292 0.08192423 0.07398677 0.07420325 0.07304871 0.06898376\n",
      " 0.06167168 0.06535177 0.06381239 0.06111846 0.0594107  0.05943476\n",
      " 0.06316296 0.05017438 0.06008419 0.044546   0.04432952 0.04834636\n",
      " 0.05919423 0.06900782 0.06819002 0.06248948 0.06164762 0.07011425\n",
      " 0.06944077 0.06956103 0.07206254 0.06987372 0.06660253 0.06806975\n",
      " 0.06494287 0.05654841 0.05972339 0.06179194 0.06313891 0.06905592\n",
      " 0.07788334 0.07874925 0.07841251 0.07675286 0.08036079 0.08187613\n",
      " 0.07562237 0.0791341  0.0771377  0.07562237 0.09029465 0.09012628\n",
      " 0.09226699 0.08734817 0.0911365  0.09991581 0.09770295 0.10013229\n",
      " 0.11148527 0.09636471 0.09839754 0.09928371 0.09934863 0.09896383\n",
      " 0.09840214 0.09782534 0.09731577 0.09690916 0.0966171  0.09643945\n",
      " 0.09637029 0.09640009 0.09651712 0.09670808]\n",
      "15 day output [[0.09695885]]\n",
      "16 day input [0.9834997  0.09308479 0.10544799 0.09876127 0.07345761 0.07365003\n",
      " 0.05407096 0.06489477 0.0556825  0.05209862 0.06016837 0.06061335\n",
      " 0.0524113  0.04810583 0.03968731 0.04748046 0.05164161 0.04036079\n",
      " 0.04300661 0.0527721  0.05921828 0.05712568 0.06126278 0.06361996\n",
      " 0.05455201 0.06292243 0.05488876 0.05950692 0.05924233 0.06405292\n",
      " 0.08192423 0.07398677 0.07420325 0.07304871 0.06898376 0.06167168\n",
      " 0.06535177 0.06381239 0.06111846 0.0594107  0.05943476 0.06316296\n",
      " 0.05017438 0.06008419 0.044546   0.04432952 0.04834636 0.05919423\n",
      " 0.06900782 0.06819002 0.06248948 0.06164762 0.07011425 0.06944077\n",
      " 0.06956103 0.07206254 0.06987372 0.06660253 0.06806975 0.06494287\n",
      " 0.05654841 0.05972339 0.06179194 0.06313891 0.06905592 0.07788334\n",
      " 0.07874925 0.07841251 0.07675286 0.08036079 0.08187613 0.07562237\n",
      " 0.0791341  0.0771377  0.07562237 0.09029465 0.09012628 0.09226699\n",
      " 0.08734817 0.0911365  0.09991581 0.09770295 0.10013229 0.11148527\n",
      " 0.09636471 0.09839754 0.09928371 0.09934863 0.09896383 0.09840214\n",
      " 0.09782534 0.09731577 0.09690916 0.0966171  0.09643945 0.09637029\n",
      " 0.09640009 0.09651712 0.09670808 0.09695885]\n",
      "16 day output [[0.09725531]]\n",
      "17 day input [0.09308479 0.10544799 0.09876127 0.07345761 0.07365003 0.05407096\n",
      " 0.06489477 0.0556825  0.05209862 0.06016837 0.06061335 0.0524113\n",
      " 0.04810583 0.03968731 0.04748046 0.05164161 0.04036079 0.04300661\n",
      " 0.0527721  0.05921828 0.05712568 0.06126278 0.06361996 0.05455201\n",
      " 0.06292243 0.05488876 0.05950692 0.05924233 0.06405292 0.08192423\n",
      " 0.07398677 0.07420325 0.07304871 0.06898376 0.06167168 0.06535177\n",
      " 0.06381239 0.06111846 0.0594107  0.05943476 0.06316296 0.05017438\n",
      " 0.06008419 0.044546   0.04432952 0.04834636 0.05919423 0.06900782\n",
      " 0.06819002 0.06248948 0.06164762 0.07011425 0.06944077 0.06956103\n",
      " 0.07206254 0.06987372 0.06660253 0.06806975 0.06494287 0.05654841\n",
      " 0.05972339 0.06179194 0.06313891 0.06905592 0.07788334 0.07874925\n",
      " 0.07841251 0.07675286 0.08036079 0.08187613 0.07562237 0.0791341\n",
      " 0.0771377  0.07562237 0.09029465 0.09012628 0.09226699 0.08734817\n",
      " 0.0911365  0.09991581 0.09770295 0.10013229 0.11148527 0.09636471\n",
      " 0.09839754 0.09928371 0.09934863 0.09896383 0.09840214 0.09782534\n",
      " 0.09731577 0.09690916 0.0966171  0.09643945 0.09637029 0.09640009\n",
      " 0.09651712 0.09670808 0.09695885 0.09725531]\n",
      "17 day output [[0.09758399]]\n",
      "18 day input [0.10544799 0.09876127 0.07345761 0.07365003 0.05407096 0.06489477\n",
      " 0.0556825  0.05209862 0.06016837 0.06061335 0.0524113  0.04810583\n",
      " 0.03968731 0.04748046 0.05164161 0.04036079 0.04300661 0.0527721\n",
      " 0.05921828 0.05712568 0.06126278 0.06361996 0.05455201 0.06292243\n",
      " 0.05488876 0.05950692 0.05924233 0.06405292 0.08192423 0.07398677\n",
      " 0.07420325 0.07304871 0.06898376 0.06167168 0.06535177 0.06381239\n",
      " 0.06111846 0.0594107  0.05943476 0.06316296 0.05017438 0.06008419\n",
      " 0.044546   0.04432952 0.04834636 0.05919423 0.06900782 0.06819002\n",
      " 0.06248948 0.06164762 0.07011425 0.06944077 0.06956103 0.07206254\n",
      " 0.06987372 0.06660253 0.06806975 0.06494287 0.05654841 0.05972339\n",
      " 0.06179194 0.06313891 0.06905592 0.07788334 0.07874925 0.07841251\n",
      " 0.07675286 0.08036079 0.08187613 0.07562237 0.0791341  0.0771377\n",
      " 0.07562237 0.09029465 0.09012628 0.09226699 0.08734817 0.0911365\n",
      " 0.09991581 0.09770295 0.10013229 0.11148527 0.09636471 0.09839754\n",
      " 0.09928371 0.09934863 0.09896383 0.09840214 0.09782534 0.09731577\n",
      " 0.09690916 0.0966171  0.09643945 0.09637029 0.09640009 0.09651712\n",
      " 0.09670808 0.09695885 0.09725531 0.09758399]\n",
      "18 day output [[0.09793277]]\n",
      "19 day input [0.09876127 0.07345761 0.07365003 0.05407096 0.06489477 0.0556825\n",
      " 0.05209862 0.06016837 0.06061335 0.0524113  0.04810583 0.03968731\n",
      " 0.04748046 0.05164161 0.04036079 0.04300661 0.0527721  0.05921828\n",
      " 0.05712568 0.06126278 0.06361996 0.05455201 0.06292243 0.05488876\n",
      " 0.05950692 0.05924233 0.06405292 0.08192423 0.07398677 0.07420325\n",
      " 0.07304871 0.06898376 0.06167168 0.06535177 0.06381239 0.06111846\n",
      " 0.0594107  0.05943476 0.06316296 0.05017438 0.06008419 0.044546\n",
      " 0.04432952 0.04834636 0.05919423 0.06900782 0.06819002 0.06248948\n",
      " 0.06164762 0.07011425 0.06944077 0.06956103 0.07206254 0.06987372\n",
      " 0.06660253 0.06806975 0.06494287 0.05654841 0.05972339 0.06179194\n",
      " 0.06313891 0.06905592 0.07788334 0.07874925 0.07841251 0.07675286\n",
      " 0.08036079 0.08187613 0.07562237 0.0791341  0.0771377  0.07562237\n",
      " 0.09029465 0.09012628 0.09226699 0.08734817 0.0911365  0.09991581\n",
      " 0.09770295 0.10013229 0.11148527 0.09636471 0.09839754 0.09928371\n",
      " 0.09934863 0.09896383 0.09840214 0.09782534 0.09731577 0.09690916\n",
      " 0.0966171  0.09643945 0.09637029 0.09640009 0.09651712 0.09670808\n",
      " 0.09695885 0.09725531 0.09758399 0.09793277]\n"
     ]
    },
    {
     "name": "stdout",
     "output_type": "stream",
     "text": [
      "19 day output [[0.0982909]]\n",
      "20 day input [0.07345761 0.07365003 0.05407096 0.06489477 0.0556825  0.05209862\n",
      " 0.06016837 0.06061335 0.0524113  0.04810583 0.03968731 0.04748046\n",
      " 0.05164161 0.04036079 0.04300661 0.0527721  0.05921828 0.05712568\n",
      " 0.06126278 0.06361996 0.05455201 0.06292243 0.05488876 0.05950692\n",
      " 0.05924233 0.06405292 0.08192423 0.07398677 0.07420325 0.07304871\n",
      " 0.06898376 0.06167168 0.06535177 0.06381239 0.06111846 0.0594107\n",
      " 0.05943476 0.06316296 0.05017438 0.06008419 0.044546   0.04432952\n",
      " 0.04834636 0.05919423 0.06900782 0.06819002 0.06248948 0.06164762\n",
      " 0.07011425 0.06944077 0.06956103 0.07206254 0.06987372 0.06660253\n",
      " 0.06806975 0.06494287 0.05654841 0.05972339 0.06179194 0.06313891\n",
      " 0.06905592 0.07788334 0.07874925 0.07841251 0.07675286 0.08036079\n",
      " 0.08187613 0.07562237 0.0791341  0.0771377  0.07562237 0.09029465\n",
      " 0.09012628 0.09226699 0.08734817 0.0911365  0.09991581 0.09770295\n",
      " 0.10013229 0.11148527 0.09636471 0.09839754 0.09928371 0.09934863\n",
      " 0.09896383 0.09840214 0.09782534 0.09731577 0.09690916 0.0966171\n",
      " 0.09643945 0.09637029 0.09640009 0.09651712 0.09670808 0.09695885\n",
      " 0.09725531 0.09758399 0.09793277 0.0982909 ]\n",
      "20 day output [[0.09864947]]\n",
      "21 day input [0.07365003 0.05407096 0.06489477 0.0556825  0.05209862 0.06016837\n",
      " 0.06061335 0.0524113  0.04810583 0.03968731 0.04748046 0.05164161\n",
      " 0.04036079 0.04300661 0.0527721  0.05921828 0.05712568 0.06126278\n",
      " 0.06361996 0.05455201 0.06292243 0.05488876 0.05950692 0.05924233\n",
      " 0.06405292 0.08192423 0.07398677 0.07420325 0.07304871 0.06898376\n",
      " 0.06167168 0.06535177 0.06381239 0.06111846 0.0594107  0.05943476\n",
      " 0.06316296 0.05017438 0.06008419 0.044546   0.04432952 0.04834636\n",
      " 0.05919423 0.06900782 0.06819002 0.06248948 0.06164762 0.07011425\n",
      " 0.06944077 0.06956103 0.07206254 0.06987372 0.06660253 0.06806975\n",
      " 0.06494287 0.05654841 0.05972339 0.06179194 0.06313891 0.06905592\n",
      " 0.07788334 0.07874925 0.07841251 0.07675286 0.08036079 0.08187613\n",
      " 0.07562237 0.0791341  0.0771377  0.07562237 0.09029465 0.09012628\n",
      " 0.09226699 0.08734817 0.0911365  0.09991581 0.09770295 0.10013229\n",
      " 0.11148527 0.09636471 0.09839754 0.09928371 0.09934863 0.09896383\n",
      " 0.09840214 0.09782534 0.09731577 0.09690916 0.0966171  0.09643945\n",
      " 0.09637029 0.09640009 0.09651712 0.09670808 0.09695885 0.09725531\n",
      " 0.09758399 0.09793277 0.0982909  0.09864947]\n",
      "21 day output [[0.09900159]]\n",
      "22 day input [0.05407096 0.06489477 0.0556825  0.05209862 0.06016837 0.06061335\n",
      " 0.0524113  0.04810583 0.03968731 0.04748046 0.05164161 0.04036079\n",
      " 0.04300661 0.0527721  0.05921828 0.05712568 0.06126278 0.06361996\n",
      " 0.05455201 0.06292243 0.05488876 0.05950692 0.05924233 0.06405292\n",
      " 0.08192423 0.07398677 0.07420325 0.07304871 0.06898376 0.06167168\n",
      " 0.06535177 0.06381239 0.06111846 0.0594107  0.05943476 0.06316296\n",
      " 0.05017438 0.06008419 0.044546   0.04432952 0.04834636 0.05919423\n",
      " 0.06900782 0.06819002 0.06248948 0.06164762 0.07011425 0.06944077\n",
      " 0.06956103 0.07206254 0.06987372 0.06660253 0.06806975 0.06494287\n",
      " 0.05654841 0.05972339 0.06179194 0.06313891 0.06905592 0.07788334\n",
      " 0.07874925 0.07841251 0.07675286 0.08036079 0.08187613 0.07562237\n",
      " 0.0791341  0.0771377  0.07562237 0.09029465 0.09012628 0.09226699\n",
      " 0.08734817 0.0911365  0.09991581 0.09770295 0.10013229 0.11148527\n",
      " 0.09636471 0.09839754 0.09928371 0.09934863 0.09896383 0.09840214\n",
      " 0.09782534 0.09731577 0.09690916 0.0966171  0.09643945 0.09637029\n",
      " 0.09640009 0.09651712 0.09670808 0.09695885 0.09725531 0.09758399\n",
      " 0.09793277 0.0982909  0.09864947 0.09900159]\n",
      "22 day output [[0.09934209]]\n",
      "23 day input [0.06489477 0.0556825  0.05209862 0.06016837 0.06061335 0.0524113\n",
      " 0.04810583 0.03968731 0.04748046 0.05164161 0.04036079 0.04300661\n",
      " 0.0527721  0.05921828 0.05712568 0.06126278 0.06361996 0.05455201\n",
      " 0.06292243 0.05488876 0.05950692 0.05924233 0.06405292 0.08192423\n",
      " 0.07398677 0.07420325 0.07304871 0.06898376 0.06167168 0.06535177\n",
      " 0.06381239 0.06111846 0.0594107  0.05943476 0.06316296 0.05017438\n",
      " 0.06008419 0.044546   0.04432952 0.04834636 0.05919423 0.06900782\n",
      " 0.06819002 0.06248948 0.06164762 0.07011425 0.06944077 0.06956103\n",
      " 0.07206254 0.06987372 0.06660253 0.06806975 0.06494287 0.05654841\n",
      " 0.05972339 0.06179194 0.06313891 0.06905592 0.07788334 0.07874925\n",
      " 0.07841251 0.07675286 0.08036079 0.08187613 0.07562237 0.0791341\n",
      " 0.0771377  0.07562237 0.09029465 0.09012628 0.09226699 0.08734817\n",
      " 0.0911365  0.09991581 0.09770295 0.10013229 0.11148527 0.09636471\n",
      " 0.09839754 0.09928371 0.09934863 0.09896383 0.09840214 0.09782534\n",
      " 0.09731577 0.09690916 0.0966171  0.09643945 0.09637029 0.09640009\n",
      " 0.09651712 0.09670808 0.09695885 0.09725531 0.09758399 0.09793277\n",
      " 0.0982909  0.09864947 0.09900159 0.09934209]\n",
      "23 day output [[0.09966772]]\n",
      "24 day input [0.0556825  0.05209862 0.06016837 0.06061335 0.0524113  0.04810583\n",
      " 0.03968731 0.04748046 0.05164161 0.04036079 0.04300661 0.0527721\n",
      " 0.05921828 0.05712568 0.06126278 0.06361996 0.05455201 0.06292243\n",
      " 0.05488876 0.05950692 0.05924233 0.06405292 0.08192423 0.07398677\n",
      " 0.07420325 0.07304871 0.06898376 0.06167168 0.06535177 0.06381239\n",
      " 0.06111846 0.0594107  0.05943476 0.06316296 0.05017438 0.06008419\n",
      " 0.044546   0.04432952 0.04834636 0.05919423 0.06900782 0.06819002\n",
      " 0.06248948 0.06164762 0.07011425 0.06944077 0.06956103 0.07206254\n",
      " 0.06987372 0.06660253 0.06806975 0.06494287 0.05654841 0.05972339\n",
      " 0.06179194 0.06313891 0.06905592 0.07788334 0.07874925 0.07841251\n",
      " 0.07675286 0.08036079 0.08187613 0.07562237 0.0791341  0.0771377\n",
      " 0.07562237 0.09029465 0.09012628 0.09226699 0.08734817 0.0911365\n",
      " 0.09991581 0.09770295 0.10013229 0.11148527 0.09636471 0.09839754\n",
      " 0.09928371 0.09934863 0.09896383 0.09840214 0.09782534 0.09731577\n",
      " 0.09690916 0.0966171  0.09643945 0.09637029 0.09640009 0.09651712\n",
      " 0.09670808 0.09695885 0.09725531 0.09758399 0.09793277 0.0982909\n",
      " 0.09864947 0.09900159 0.09934209 0.09966772]\n",
      "24 day output [[0.09997664]]\n",
      "25 day input [0.05209862 0.06016837 0.06061335 0.0524113  0.04810583 0.03968731\n",
      " 0.04748046 0.05164161 0.04036079 0.04300661 0.0527721  0.05921828\n",
      " 0.05712568 0.06126278 0.06361996 0.05455201 0.06292243 0.05488876\n",
      " 0.05950692 0.05924233 0.06405292 0.08192423 0.07398677 0.07420325\n",
      " 0.07304871 0.06898376 0.06167168 0.06535177 0.06381239 0.06111846\n",
      " 0.0594107  0.05943476 0.06316296 0.05017438 0.06008419 0.044546\n",
      " 0.04432952 0.04834636 0.05919423 0.06900782 0.06819002 0.06248948\n",
      " 0.06164762 0.07011425 0.06944077 0.06956103 0.07206254 0.06987372\n",
      " 0.06660253 0.06806975 0.06494287 0.05654841 0.05972339 0.06179194\n",
      " 0.06313891 0.06905592 0.07788334 0.07874925 0.07841251 0.07675286\n",
      " 0.08036079 0.08187613 0.07562237 0.0791341  0.0771377  0.07562237\n",
      " 0.09029465 0.09012628 0.09226699 0.08734817 0.0911365  0.09991581\n",
      " 0.09770295 0.10013229 0.11148527 0.09636471 0.09839754 0.09928371\n",
      " 0.09934863 0.09896383 0.09840214 0.09782534 0.09731577 0.09690916\n",
      " 0.0966171  0.09643945 0.09637029 0.09640009 0.09651712 0.09670808\n",
      " 0.09695885 0.09725531 0.09758399 0.09793277 0.0982909  0.09864947\n",
      " 0.09900159 0.09934209 0.09966772 0.09997664]\n",
      "25 day output [[0.10026839]]\n",
      "26 day input [0.06016837 0.06061335 0.0524113  0.04810583 0.03968731 0.04748046\n",
      " 0.05164161 0.04036079 0.04300661 0.0527721  0.05921828 0.05712568\n",
      " 0.06126278 0.06361996 0.05455201 0.06292243 0.05488876 0.05950692\n",
      " 0.05924233 0.06405292 0.08192423 0.07398677 0.07420325 0.07304871\n",
      " 0.06898376 0.06167168 0.06535177 0.06381239 0.06111846 0.0594107\n",
      " 0.05943476 0.06316296 0.05017438 0.06008419 0.044546   0.04432952\n",
      " 0.04834636 0.05919423 0.06900782 0.06819002 0.06248948 0.06164762\n",
      " 0.07011425 0.06944077 0.06956103 0.07206254 0.06987372 0.06660253\n",
      " 0.06806975 0.06494287 0.05654841 0.05972339 0.06179194 0.06313891\n",
      " 0.06905592 0.07788334 0.07874925 0.07841251 0.07675286 0.08036079\n",
      " 0.08187613 0.07562237 0.0791341  0.0771377  0.07562237 0.09029465\n",
      " 0.09012628 0.09226699 0.08734817 0.0911365  0.09991581 0.09770295\n",
      " 0.10013229 0.11148527 0.09636471 0.09839754 0.09928371 0.09934863\n",
      " 0.09896383 0.09840214 0.09782534 0.09731577 0.09690916 0.0966171\n",
      " 0.09643945 0.09637029 0.09640009 0.09651712 0.09670808 0.09695885\n",
      " 0.09725531 0.09758399 0.09793277 0.0982909  0.09864947 0.09900159\n",
      " 0.09934209 0.09966772 0.09997664 0.10026839]\n",
      "26 day output [[0.10054351]]\n",
      "27 day input [0.06061335 0.0524113  0.04810583 0.03968731 0.04748046 0.05164161\n",
      " 0.04036079 0.04300661 0.0527721  0.05921828 0.05712568 0.06126278\n",
      " 0.06361996 0.05455201 0.06292243 0.05488876 0.05950692 0.05924233\n",
      " 0.06405292 0.08192423 0.07398677 0.07420325 0.07304871 0.06898376\n",
      " 0.06167168 0.06535177 0.06381239 0.06111846 0.0594107  0.05943476\n",
      " 0.06316296 0.05017438 0.06008419 0.044546   0.04432952 0.04834636\n",
      " 0.05919423 0.06900782 0.06819002 0.06248948 0.06164762 0.07011425\n",
      " 0.06944077 0.06956103 0.07206254 0.06987372 0.06660253 0.06806975\n",
      " 0.06494287 0.05654841 0.05972339 0.06179194 0.06313891 0.06905592\n",
      " 0.07788334 0.07874925 0.07841251 0.07675286 0.08036079 0.08187613\n",
      " 0.07562237 0.0791341  0.0771377  0.07562237 0.09029465 0.09012628\n",
      " 0.09226699 0.08734817 0.0911365  0.09991581 0.09770295 0.10013229\n",
      " 0.11148527 0.09636471 0.09839754 0.09928371 0.09934863 0.09896383\n",
      " 0.09840214 0.09782534 0.09731577 0.09690916 0.0966171  0.09643945\n",
      " 0.09637029 0.09640009 0.09651712 0.09670808 0.09695885 0.09725531\n",
      " 0.09758399 0.09793277 0.0982909  0.09864947 0.09900159 0.09934209\n",
      " 0.09966772 0.09997664 0.10026839 0.10054351]\n"
     ]
    },
    {
     "name": "stdout",
     "output_type": "stream",
     "text": [
      "27 day output [[0.10080335]]\n",
      "28 day input [0.0524113  0.04810583 0.03968731 0.04748046 0.05164161 0.04036079\n",
      " 0.04300661 0.0527721  0.05921828 0.05712568 0.06126278 0.06361996\n",
      " 0.05455201 0.06292243 0.05488876 0.05950692 0.05924233 0.06405292\n",
      " 0.08192423 0.07398677 0.07420325 0.07304871 0.06898376 0.06167168\n",
      " 0.06535177 0.06381239 0.06111846 0.0594107  0.05943476 0.06316296\n",
      " 0.05017438 0.06008419 0.044546   0.04432952 0.04834636 0.05919423\n",
      " 0.06900782 0.06819002 0.06248948 0.06164762 0.07011425 0.06944077\n",
      " 0.06956103 0.07206254 0.06987372 0.06660253 0.06806975 0.06494287\n",
      " 0.05654841 0.05972339 0.06179194 0.06313891 0.06905592 0.07788334\n",
      " 0.07874925 0.07841251 0.07675286 0.08036079 0.08187613 0.07562237\n",
      " 0.0791341  0.0771377  0.07562237 0.09029465 0.09012628 0.09226699\n",
      " 0.08734817 0.0911365  0.09991581 0.09770295 0.10013229 0.11148527\n",
      " 0.09636471 0.09839754 0.09928371 0.09934863 0.09896383 0.09840214\n",
      " 0.09782534 0.09731577 0.09690916 0.0966171  0.09643945 0.09637029\n",
      " 0.09640009 0.09651712 0.09670808 0.09695885 0.09725531 0.09758399\n",
      " 0.09793277 0.0982909  0.09864947 0.09900159 0.09934209 0.09966772\n",
      " 0.09997664 0.10026839 0.10054351 0.10080335]\n",
      "28 day output [[0.10104982]]\n",
      "29 day input [0.04810583 0.03968731 0.04748046 0.05164161 0.04036079 0.04300661\n",
      " 0.0527721  0.05921828 0.05712568 0.06126278 0.06361996 0.05455201\n",
      " 0.06292243 0.05488876 0.05950692 0.05924233 0.06405292 0.08192423\n",
      " 0.07398677 0.07420325 0.07304871 0.06898376 0.06167168 0.06535177\n",
      " 0.06381239 0.06111846 0.0594107  0.05943476 0.06316296 0.05017438\n",
      " 0.06008419 0.044546   0.04432952 0.04834636 0.05919423 0.06900782\n",
      " 0.06819002 0.06248948 0.06164762 0.07011425 0.06944077 0.06956103\n",
      " 0.07206254 0.06987372 0.06660253 0.06806975 0.06494287 0.05654841\n",
      " 0.05972339 0.06179194 0.06313891 0.06905592 0.07788334 0.07874925\n",
      " 0.07841251 0.07675286 0.08036079 0.08187613 0.07562237 0.0791341\n",
      " 0.0771377  0.07562237 0.09029465 0.09012628 0.09226699 0.08734817\n",
      " 0.0911365  0.09991581 0.09770295 0.10013229 0.11148527 0.09636471\n",
      " 0.09839754 0.09928371 0.09934863 0.09896383 0.09840214 0.09782534\n",
      " 0.09731577 0.09690916 0.0966171  0.09643945 0.09637029 0.09640009\n",
      " 0.09651712 0.09670808 0.09695885 0.09725531 0.09758399 0.09793277\n",
      " 0.0982909  0.09864947 0.09900159 0.09934209 0.09966772 0.09997664\n",
      " 0.10026839 0.10054351 0.10080335 0.10104982]\n",
      "29 day output [[0.10128515]]\n",
      "[[0.09636470675468445], [0.09839753806591034], [0.09928371012210846], [0.09934863448143005], [0.09896383434534073], [0.09840213507413864], [0.09782534092664719], [0.09731577336788177], [0.09690915793180466], [0.09661709517240524], [0.09643945097923279], [0.09637028723955154], [0.09640008956193924], [0.09651711583137512], [0.09670808166265488], [0.09695885330438614], [0.09725531190633774], [0.09758398681879044], [0.09793277084827423], [0.09829089790582657], [0.09864947199821472], [0.09900158643722534], [0.09934209287166595], [0.09966772049665451], [0.09997663646936417], [0.10026838630437851], [0.10054350644350052], [0.10080334544181824], [0.10104981809854507], [0.10128515213727951]]\n"
     ]
    }
   ],
   "source": [
    "lst_output = []\n",
    "n_steps = 100\n",
    "i = 0\n",
    "\n",
    "while(i<30):\n",
    "    \n",
    "    if(len(temp_input) > 100):\n",
    "        x_input = np.array(temp_input[1:])\n",
    "        print(\"{} day input {}\".format(i, x_input))\n",
    "        x_input = x_input.reshape(1, -1)\n",
    "        x_input = x_input.reshape((1, n_steps, 1))\n",
    "        yhat = model.predict(x_input, verbose=0)\n",
    "        print(\"{} day output {}\".format(i, yhat))\n",
    "        temp_input.extend(yhat[0].tolist())\n",
    "        temp_input = temp_input[1:]\n",
    "        lst_output.extend(yhat.tolist())\n",
    "        i = i + 1\n",
    "         \n",
    "    else:\n",
    "        x_input = x_input.reshape((1, n_steps, 1))\n",
    "        yhat = model.predict(x_input, verbose=0)\n",
    "        print(yhat[0])\n",
    "        temp_input.extend(yhat[0].tolist())\n",
    "        print(len(temp_input))\n",
    "        lst_output.extend(yhat.tolist())\n",
    "        i = i + 1\n",
    "\n",
    "        \n",
    "print(lst_output)"
   ]
  },
  {
   "cell_type": "code",
   "execution_count": 70,
   "metadata": {},
   "outputs": [],
   "source": [
    "day_new = np.arange(1, 101)\n",
    "day_pred = np.arange(101, 131)"
   ]
  },
  {
   "cell_type": "code",
   "execution_count": 79,
   "metadata": {},
   "outputs": [
    {
     "data": {
      "text/plain": [
       "((100,), (30,))"
      ]
     },
     "execution_count": 79,
     "metadata": {},
     "output_type": "execute_result"
    }
   ],
   "source": [
    "day_new.shape, day_pred.shape"
   ]
  },
  {
   "cell_type": "code",
   "execution_count": 81,
   "metadata": {},
   "outputs": [],
   "source": [
    "df3 = df1.tolist()\n",
    "df3.extend(lst_output)\n"
   ]
  },
  {
   "cell_type": "code",
   "execution_count": 85,
   "metadata": {},
   "outputs": [
    {
     "data": {
      "text/plain": [
       "[<matplotlib.lines.Line2D at 0x188fbf90948>]"
      ]
     },
     "execution_count": 85,
     "metadata": {},
     "output_type": "execute_result"
    },
    {
     "data": {
      "image/png": "[encoded data removed]",
      "text/plain": [
       "<Figure size 432x288 with 1 Axes>"
      ]
     },
     "metadata": {
      "needs_background": "light"
     },
     "output_type": "display_data"
    }
   ],
   "source": [
    "plt.plot(day_new, scaler.inverse_transform(df1[1157:]))\n",
    "plt.plot(day_pred, scaler.inverse_transform(lst_output))"
   ]
  },
  {
   "cell_type": "code",
   "execution_count": 90,
   "metadata": {},
   "outputs": [
    {
     "data": {
      "text/plain": [
       "[<matplotlib.lines.Line2D at 0x188fcec0c08>]"
      ]
     },
     "execution_count": 90,
     "metadata": {},
     "output_type": "execute_result"
    },
    {
     "data": {
      "image/png": "[encoded data removed]",
      "text/plain": [
       "<Figure size 432x288 with 1 Axes>"
      ]
     },
     "metadata": {
      "needs_background": "light"
     },
     "output_type": "display_data"
    }
   ],
   "source": [
    "# Combined\n",
    "df3 = df1.tolist()\n",
    "df3.extend(lst_output)\n",
    "plt.plot(df3[1000:])"
   ]
  },
  {
   "cell_type": "code",
   "execution_count": null,
   "metadata": {},
   "outputs": [],
   "source": []
  }
 ],
 "metadata": {
  "kernelspec": {
   "display_name": "Python 3",
   "language": "python",
   "name": "python3"
  },
  "language_info": {
   "codemirror_mode": {
    "name": "ipython",
    "version": 3
   },
   "file_extension": ".py",
   "mimetype": "text/x-python",
   "name": "python",
   "nbconvert_exporter": "python",
   "pygments_lexer": "ipython3",
   "version": "3.7.4"
  }
 },
 "nbformat": 4,
 "nbformat_minor": 4
}
